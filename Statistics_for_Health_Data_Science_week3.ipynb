{
  "nbformat": 4,
  "nbformat_minor": 0,
  "metadata": {
    "colab": {
      "provenance": []
    },
    "kernelspec": {
      "name": "python3",
      "display_name": "Python 3"
    },
    "language_info": {
      "name": "python"
    }
  },
  "cells": [
    {
      "cell_type": "markdown",
      "source": [
        "# Statistics for Health Data Science Workshop\n",
        "\n",
        "\n",
        "---\n",
        "\n",
        "\n",
        "In this Python workshop session you will do exploratory data analysis and modelling on a small data set to help gain some familiarity with a medical dataset and statistical models.\n",
        "\n",
        "For the purspose of this workshop we will be using the UCI HCV (Hepatitis C Virus) data set. It is a publicly available dataset that contains clinical and demographic data of 615 patients infected with hepatitis C virus (HCV). The dataset was collected from a clinical trial conducted in Egypt and includes information about patients' age, sex, laboratory test results such as ALT, AST, bilirubin levels, etc.\n",
        "\n",
        "In this Google Colab file you will go through a completed series of steps with instructions to perform, on your own, additional tasks. At any moment during the lab you can move on the following step by making sure to run the previous ones.\n",
        "\n",
        "To ease collaboration and discussion, you will sit in teams and work together. At some point during the lab each team will be asked to share the work produced thus far. </br>\n",
        "**Please don't edit this file, create a copy of this file on your own machine: File > Save a copy in Drive.**"
      ],
      "metadata": {
        "id": "jSqd9u9E1AXy"
      }
    },
    {
      "cell_type": "markdown",
      "source": [
        "## Step 1: Set up libraries, read in the data"
      ],
      "metadata": {
        "id": "VUqd9o1DUaUu"
      }
    },
    {
      "cell_type": "code",
      "source": [
        "# Data Cleaning\n",
        "import matplotlib.pyplot as plt\n",
        "import numpy as np\n",
        "import pandas as pd\n",
        "import seaborn as sns\n",
        "import scipy\n",
        "from scipy.stats import shapiro, chi2_contingency\n",
        "import statsmodels.api as sm\n",
        "\n",
        "\n",
        "# Regression\n",
        "from sklearn.linear_model import LinearRegression\n",
        "from sklearn.linear_model import LogisticRegression\n",
        "from sklearn.metrics import r2_score, accuracy_score, mean_squared_error"
      ],
      "metadata": {
        "id": "MvFs7ZPg7zKr"
      },
      "execution_count": null,
      "outputs": []
    },
    {
      "cell_type": "code",
      "execution_count": null,
      "metadata": {
        "id": "VnG-rLq_jnGV",
        "colab": {
          "base_uri": "https://localhost:8080/",
          "height": 206
        },
        "outputId": "50f2244a-aacc-412d-f39f-e132417f22cd"
      },
      "outputs": [
        {
          "output_type": "execute_result",
          "data": {
            "text/plain": [
              "   Unnamed: 0       Category  Age Sex   ALB   ALP   ALT   AST   BIL    CHE  \\\n",
              "0           1  0=Blood Donor   32   m  38.5  52.5   7.7  22.1   7.5   6.93   \n",
              "1           2  0=Blood Donor   32   m  38.5  70.3  18.0  24.7   3.9  11.17   \n",
              "2           3  0=Blood Donor   32   m  46.9  74.7  36.2  52.6   6.1   8.84   \n",
              "3           4  0=Blood Donor   32   m  43.2  52.0  30.6  22.6  18.9   7.33   \n",
              "4           5  0=Blood Donor   32   m  39.2  74.1  32.6  24.8   9.6   9.15   \n",
              "\n",
              "   CHOL   CREA   GGT  PROT  \n",
              "0  3.23  106.0  12.1  69.0  \n",
              "1  4.80   74.0  15.6  76.5  \n",
              "2  5.20   86.0  33.2  79.3  \n",
              "3  4.74   80.0  33.8  75.7  \n",
              "4  4.32   76.0  29.9  68.7  "
            ],
            "text/html": [
              "\n",
              "  <div id=\"df-9e43feb3-d033-430e-894f-f3bf3be1dc3b\" class=\"colab-df-container\">\n",
              "    <div>\n",
              "<style scoped>\n",
              "    .dataframe tbody tr th:only-of-type {\n",
              "        vertical-align: middle;\n",
              "    }\n",
              "\n",
              "    .dataframe tbody tr th {\n",
              "        vertical-align: top;\n",
              "    }\n",
              "\n",
              "    .dataframe thead th {\n",
              "        text-align: right;\n",
              "    }\n",
              "</style>\n",
              "<table border=\"1\" class=\"dataframe\">\n",
              "  <thead>\n",
              "    <tr style=\"text-align: right;\">\n",
              "      <th></th>\n",
              "      <th>Unnamed: 0</th>\n",
              "      <th>Category</th>\n",
              "      <th>Age</th>\n",
              "      <th>Sex</th>\n",
              "      <th>ALB</th>\n",
              "      <th>ALP</th>\n",
              "      <th>ALT</th>\n",
              "      <th>AST</th>\n",
              "      <th>BIL</th>\n",
              "      <th>CHE</th>\n",
              "      <th>CHOL</th>\n",
              "      <th>CREA</th>\n",
              "      <th>GGT</th>\n",
              "      <th>PROT</th>\n",
              "    </tr>\n",
              "  </thead>\n",
              "  <tbody>\n",
              "    <tr>\n",
              "      <th>0</th>\n",
              "      <td>1</td>\n",
              "      <td>0=Blood Donor</td>\n",
              "      <td>32</td>\n",
              "      <td>m</td>\n",
              "      <td>38.5</td>\n",
              "      <td>52.5</td>\n",
              "      <td>7.7</td>\n",
              "      <td>22.1</td>\n",
              "      <td>7.5</td>\n",
              "      <td>6.93</td>\n",
              "      <td>3.23</td>\n",
              "      <td>106.0</td>\n",
              "      <td>12.1</td>\n",
              "      <td>69.0</td>\n",
              "    </tr>\n",
              "    <tr>\n",
              "      <th>1</th>\n",
              "      <td>2</td>\n",
              "      <td>0=Blood Donor</td>\n",
              "      <td>32</td>\n",
              "      <td>m</td>\n",
              "      <td>38.5</td>\n",
              "      <td>70.3</td>\n",
              "      <td>18.0</td>\n",
              "      <td>24.7</td>\n",
              "      <td>3.9</td>\n",
              "      <td>11.17</td>\n",
              "      <td>4.80</td>\n",
              "      <td>74.0</td>\n",
              "      <td>15.6</td>\n",
              "      <td>76.5</td>\n",
              "    </tr>\n",
              "    <tr>\n",
              "      <th>2</th>\n",
              "      <td>3</td>\n",
              "      <td>0=Blood Donor</td>\n",
              "      <td>32</td>\n",
              "      <td>m</td>\n",
              "      <td>46.9</td>\n",
              "      <td>74.7</td>\n",
              "      <td>36.2</td>\n",
              "      <td>52.6</td>\n",
              "      <td>6.1</td>\n",
              "      <td>8.84</td>\n",
              "      <td>5.20</td>\n",
              "      <td>86.0</td>\n",
              "      <td>33.2</td>\n",
              "      <td>79.3</td>\n",
              "    </tr>\n",
              "    <tr>\n",
              "      <th>3</th>\n",
              "      <td>4</td>\n",
              "      <td>0=Blood Donor</td>\n",
              "      <td>32</td>\n",
              "      <td>m</td>\n",
              "      <td>43.2</td>\n",
              "      <td>52.0</td>\n",
              "      <td>30.6</td>\n",
              "      <td>22.6</td>\n",
              "      <td>18.9</td>\n",
              "      <td>7.33</td>\n",
              "      <td>4.74</td>\n",
              "      <td>80.0</td>\n",
              "      <td>33.8</td>\n",
              "      <td>75.7</td>\n",
              "    </tr>\n",
              "    <tr>\n",
              "      <th>4</th>\n",
              "      <td>5</td>\n",
              "      <td>0=Blood Donor</td>\n",
              "      <td>32</td>\n",
              "      <td>m</td>\n",
              "      <td>39.2</td>\n",
              "      <td>74.1</td>\n",
              "      <td>32.6</td>\n",
              "      <td>24.8</td>\n",
              "      <td>9.6</td>\n",
              "      <td>9.15</td>\n",
              "      <td>4.32</td>\n",
              "      <td>76.0</td>\n",
              "      <td>29.9</td>\n",
              "      <td>68.7</td>\n",
              "    </tr>\n",
              "  </tbody>\n",
              "</table>\n",
              "</div>\n",
              "    <div class=\"colab-df-buttons\">\n",
              "\n",
              "  <div class=\"colab-df-container\">\n",
              "    <button class=\"colab-df-convert\" onclick=\"convertToInteractive('df-9e43feb3-d033-430e-894f-f3bf3be1dc3b')\"\n",
              "            title=\"Convert this dataframe to an interactive table.\"\n",
              "            style=\"display:none;\">\n",
              "\n",
              "  <svg xmlns=\"http://www.w3.org/2000/svg\" height=\"24px\" viewBox=\"0 -960 960 960\">\n",
              "    <path d=\"M120-120v-720h720v720H120Zm60-500h600v-160H180v160Zm220 220h160v-160H400v160Zm0 220h160v-160H400v160ZM180-400h160v-160H180v160Zm440 0h160v-160H620v160ZM180-180h160v-160H180v160Zm440 0h160v-160H620v160Z\"/>\n",
              "  </svg>\n",
              "    </button>\n",
              "\n",
              "  <style>\n",
              "    .colab-df-container {\n",
              "      display:flex;\n",
              "      gap: 12px;\n",
              "    }\n",
              "\n",
              "    .colab-df-convert {\n",
              "      background-color: #E8F0FE;\n",
              "      border: none;\n",
              "      border-radius: 50%;\n",
              "      cursor: pointer;\n",
              "      display: none;\n",
              "      fill: #1967D2;\n",
              "      height: 32px;\n",
              "      padding: 0 0 0 0;\n",
              "      width: 32px;\n",
              "    }\n",
              "\n",
              "    .colab-df-convert:hover {\n",
              "      background-color: #E2EBFA;\n",
              "      box-shadow: 0px 1px 2px rgba(60, 64, 67, 0.3), 0px 1px 3px 1px rgba(60, 64, 67, 0.15);\n",
              "      fill: #174EA6;\n",
              "    }\n",
              "\n",
              "    .colab-df-buttons div {\n",
              "      margin-bottom: 4px;\n",
              "    }\n",
              "\n",
              "    [theme=dark] .colab-df-convert {\n",
              "      background-color: #3B4455;\n",
              "      fill: #D2E3FC;\n",
              "    }\n",
              "\n",
              "    [theme=dark] .colab-df-convert:hover {\n",
              "      background-color: #434B5C;\n",
              "      box-shadow: 0px 1px 3px 1px rgba(0, 0, 0, 0.15);\n",
              "      filter: drop-shadow(0px 1px 2px rgba(0, 0, 0, 0.3));\n",
              "      fill: #FFFFFF;\n",
              "    }\n",
              "  </style>\n",
              "\n",
              "    <script>\n",
              "      const buttonEl =\n",
              "        document.querySelector('#df-9e43feb3-d033-430e-894f-f3bf3be1dc3b button.colab-df-convert');\n",
              "      buttonEl.style.display =\n",
              "        google.colab.kernel.accessAllowed ? 'block' : 'none';\n",
              "\n",
              "      async function convertToInteractive(key) {\n",
              "        const element = document.querySelector('#df-9e43feb3-d033-430e-894f-f3bf3be1dc3b');\n",
              "        const dataTable =\n",
              "          await google.colab.kernel.invokeFunction('convertToInteractive',\n",
              "                                                    [key], {});\n",
              "        if (!dataTable) return;\n",
              "\n",
              "        const docLinkHtml = 'Like what you see? Visit the ' +\n",
              "          '<a target=\"_blank\" href=https://colab.research.google.com/notebooks/data_table.ipynb>data table notebook</a>'\n",
              "          + ' to learn more about interactive tables.';\n",
              "        element.innerHTML = '';\n",
              "        dataTable['output_type'] = 'display_data';\n",
              "        await google.colab.output.renderOutput(dataTable, element);\n",
              "        const docLink = document.createElement('div');\n",
              "        docLink.innerHTML = docLinkHtml;\n",
              "        element.appendChild(docLink);\n",
              "      }\n",
              "    </script>\n",
              "  </div>\n",
              "\n",
              "\n",
              "<div id=\"df-7d90f7ca-98d7-44d0-b973-8aa18d07c2c8\">\n",
              "  <button class=\"colab-df-quickchart\" onclick=\"quickchart('df-7d90f7ca-98d7-44d0-b973-8aa18d07c2c8')\"\n",
              "            title=\"Suggest charts.\"\n",
              "            style=\"display:none;\">\n",
              "\n",
              "<svg xmlns=\"http://www.w3.org/2000/svg\" height=\"24px\"viewBox=\"0 0 24 24\"\n",
              "     width=\"24px\">\n",
              "    <g>\n",
              "        <path d=\"M19 3H5c-1.1 0-2 .9-2 2v14c0 1.1.9 2 2 2h14c1.1 0 2-.9 2-2V5c0-1.1-.9-2-2-2zM9 17H7v-7h2v7zm4 0h-2V7h2v10zm4 0h-2v-4h2v4z\"/>\n",
              "    </g>\n",
              "</svg>\n",
              "  </button>\n",
              "\n",
              "<style>\n",
              "  .colab-df-quickchart {\n",
              "      --bg-color: #E8F0FE;\n",
              "      --fill-color: #1967D2;\n",
              "      --hover-bg-color: #E2EBFA;\n",
              "      --hover-fill-color: #174EA6;\n",
              "      --disabled-fill-color: #AAA;\n",
              "      --disabled-bg-color: #DDD;\n",
              "  }\n",
              "\n",
              "  [theme=dark] .colab-df-quickchart {\n",
              "      --bg-color: #3B4455;\n",
              "      --fill-color: #D2E3FC;\n",
              "      --hover-bg-color: #434B5C;\n",
              "      --hover-fill-color: #FFFFFF;\n",
              "      --disabled-bg-color: #3B4455;\n",
              "      --disabled-fill-color: #666;\n",
              "  }\n",
              "\n",
              "  .colab-df-quickchart {\n",
              "    background-color: var(--bg-color);\n",
              "    border: none;\n",
              "    border-radius: 50%;\n",
              "    cursor: pointer;\n",
              "    display: none;\n",
              "    fill: var(--fill-color);\n",
              "    height: 32px;\n",
              "    padding: 0;\n",
              "    width: 32px;\n",
              "  }\n",
              "\n",
              "  .colab-df-quickchart:hover {\n",
              "    background-color: var(--hover-bg-color);\n",
              "    box-shadow: 0 1px 2px rgba(60, 64, 67, 0.3), 0 1px 3px 1px rgba(60, 64, 67, 0.15);\n",
              "    fill: var(--button-hover-fill-color);\n",
              "  }\n",
              "\n",
              "  .colab-df-quickchart-complete:disabled,\n",
              "  .colab-df-quickchart-complete:disabled:hover {\n",
              "    background-color: var(--disabled-bg-color);\n",
              "    fill: var(--disabled-fill-color);\n",
              "    box-shadow: none;\n",
              "  }\n",
              "\n",
              "  .colab-df-spinner {\n",
              "    border: 2px solid var(--fill-color);\n",
              "    border-color: transparent;\n",
              "    border-bottom-color: var(--fill-color);\n",
              "    animation:\n",
              "      spin 1s steps(1) infinite;\n",
              "  }\n",
              "\n",
              "  @keyframes spin {\n",
              "    0% {\n",
              "      border-color: transparent;\n",
              "      border-bottom-color: var(--fill-color);\n",
              "      border-left-color: var(--fill-color);\n",
              "    }\n",
              "    20% {\n",
              "      border-color: transparent;\n",
              "      border-left-color: var(--fill-color);\n",
              "      border-top-color: var(--fill-color);\n",
              "    }\n",
              "    30% {\n",
              "      border-color: transparent;\n",
              "      border-left-color: var(--fill-color);\n",
              "      border-top-color: var(--fill-color);\n",
              "      border-right-color: var(--fill-color);\n",
              "    }\n",
              "    40% {\n",
              "      border-color: transparent;\n",
              "      border-right-color: var(--fill-color);\n",
              "      border-top-color: var(--fill-color);\n",
              "    }\n",
              "    60% {\n",
              "      border-color: transparent;\n",
              "      border-right-color: var(--fill-color);\n",
              "    }\n",
              "    80% {\n",
              "      border-color: transparent;\n",
              "      border-right-color: var(--fill-color);\n",
              "      border-bottom-color: var(--fill-color);\n",
              "    }\n",
              "    90% {\n",
              "      border-color: transparent;\n",
              "      border-bottom-color: var(--fill-color);\n",
              "    }\n",
              "  }\n",
              "</style>\n",
              "\n",
              "  <script>\n",
              "    async function quickchart(key) {\n",
              "      const quickchartButtonEl =\n",
              "        document.querySelector('#' + key + ' button');\n",
              "      quickchartButtonEl.disabled = true;  // To prevent multiple clicks.\n",
              "      quickchartButtonEl.classList.add('colab-df-spinner');\n",
              "      try {\n",
              "        const charts = await google.colab.kernel.invokeFunction(\n",
              "            'suggestCharts', [key], {});\n",
              "      } catch (error) {\n",
              "        console.error('Error during call to suggestCharts:', error);\n",
              "      }\n",
              "      quickchartButtonEl.classList.remove('colab-df-spinner');\n",
              "      quickchartButtonEl.classList.add('colab-df-quickchart-complete');\n",
              "    }\n",
              "    (() => {\n",
              "      let quickchartButtonEl =\n",
              "        document.querySelector('#df-7d90f7ca-98d7-44d0-b973-8aa18d07c2c8 button');\n",
              "      quickchartButtonEl.style.display =\n",
              "        google.colab.kernel.accessAllowed ? 'block' : 'none';\n",
              "    })();\n",
              "  </script>\n",
              "</div>\n",
              "    </div>\n",
              "  </div>\n"
            ]
          },
          "metadata": {},
          "execution_count": 120
        }
      ],
      "source": [
        "url = \"https://raw.githubusercontent.com/claudia-viaro/Statistics-for-Health-Data-Science/main/data/hcvdat0.csv?token=GHSAT0AAAAAACJAQYPLOVQSYESOS6FC4HQ4ZJOTKMA\"\n",
        "dataset = pd.read_csv(url)\n",
        "dataset.head()"
      ]
    },
    {
      "cell_type": "markdown",
      "source": [
        "## Step 2: Data cleaning\n",
        "In this step, you are asked to explore and tidy the dataset. That is, you can check for the following:\n",
        "* number of observations and variables\n",
        "* names and types of variables, labels of factor variables\n",
        "* check for missing/NA values and drop them\n",
        "* assign numerical levels to categorical variables \"Category\" and \"Sex\"\n",
        "* create a binary variable named \"Disease\" that takes value 0 if the patient is a blood donor (or suspected) and value 1 in the other cases, to denote presence of HCV\n",
        "* remove the index variable \"Unnamed\" as it won't be of use\n",
        "\n",
        "**instead of dropping NA values, can you replace them by the median value of the variable?**\n"
      ],
      "metadata": {
        "id": "Ox7T23g195sF"
      }
    },
    {
      "cell_type": "code",
      "source": [
        "# quick info on the dataset\n",
        "dataset.info()\n",
        "\n",
        "# explore the levels of the factor variables\n",
        "print(np.unique(np.ravel(dataset[[\"Category\"]])))\n",
        "print(np.unique(np.ravel(dataset[[\"Sex\"]])))"
      ],
      "metadata": {
        "colab": {
          "base_uri": "https://localhost:8080/"
        },
        "id": "77Y1a_KuFrH5",
        "outputId": "0115f361-156c-4395-a4bb-0b74f09d780c"
      },
      "execution_count": null,
      "outputs": [
        {
          "output_type": "stream",
          "name": "stdout",
          "text": [
            "<class 'pandas.core.frame.DataFrame'>\n",
            "RangeIndex: 615 entries, 0 to 614\n",
            "Data columns (total 14 columns):\n",
            " #   Column      Non-Null Count  Dtype  \n",
            "---  ------      --------------  -----  \n",
            " 0   Unnamed: 0  615 non-null    int64  \n",
            " 1   Category    615 non-null    object \n",
            " 2   Age         615 non-null    int64  \n",
            " 3   Sex         615 non-null    object \n",
            " 4   ALB         614 non-null    float64\n",
            " 5   ALP         597 non-null    float64\n",
            " 6   ALT         614 non-null    float64\n",
            " 7   AST         615 non-null    float64\n",
            " 8   BIL         615 non-null    float64\n",
            " 9   CHE         615 non-null    float64\n",
            " 10  CHOL        605 non-null    float64\n",
            " 11  CREA        615 non-null    float64\n",
            " 12  GGT         615 non-null    float64\n",
            " 13  PROT        614 non-null    float64\n",
            "dtypes: float64(10), int64(2), object(2)\n",
            "memory usage: 67.4+ KB\n",
            "['0=Blood Donor' '0s=suspect Blood Donor' '1=Hepatitis' '2=Fibrosis'\n",
            " '3=Cirrhosis']\n",
            "['f' 'm']\n"
          ]
        }
      ]
    },
    {
      "cell_type": "markdown",
      "source": [
        "**Note** you can observe that the acronym variables refer to laboratory test results:\n",
        "* ALB, Albumin\n",
        "* ALP, Alkaline phosphatase\n",
        "* ALT, Alanine transaminase\n",
        "* AST, aspartate aminotransferas\n",
        "* BIL, Bilirubin\n",
        "* CHE, cholinesterase\n",
        "* CHOL, Cholesterol\n",
        "* CREA, Creatinine\n",
        "* GGT, Gamma-glutamyl Transferase\n",
        "* PROT, Total protein test"
      ],
      "metadata": {
        "id": "X5xcI_s97-vd"
      }
    },
    {
      "cell_type": "code",
      "source": [
        "# missing values\n",
        "missing = dataset.isnull().sum()\n",
        "percent_missing = dataset.isnull().sum() * 100 / len(dataset)\n",
        "print(\"missing data \\n\", missing, \"\\n\", percent_missing)\n",
        "# We can see that variables ALP and CHOL have, respectively, 18 and 10 missing values, variables PROT and ALT only one\n",
        "\n",
        "# you can check whether there are also NA values, on top of missing values\n",
        "dataset.isna().sum() # as you can see, missing data are encoded as NA\n",
        "\n",
        "# There are several methods to handle missing values. Each method has its own advantages and disadvantages. The choice of the method is subjective and depends on the nature of data\n",
        "# and the missing values. Here, we will drop NA values\n",
        "dataset = dataset.dropna()\n",
        "dataset.shape\n",
        "\n",
        "# Replace NA values by the median value\n",
        "na_cols = ['PROT', 'ALP', 'CHOL', 'ALT', 'ALB']\n",
        "dataset_noNA = dataset\n",
        "dataset_noNA.fillna((dataset_noNA[na_cols].mean()), inplace=True)\n",
        "missing_new = dataset_noNA.isnull().sum()\n",
        "percent_missing_new = dataset_noNA.isnull().sum() * 100 / len(dataset_noNA)\n",
        "print(\"missing data \\n\", missing_new, \"\\n\", percent_missing_new)\n",
        "# ... write your code here ..."
      ],
      "metadata": {
        "colab": {
          "base_uri": "https://localhost:8080/"
        },
        "id": "5GOIlmiRNKAF",
        "outputId": "13f86aa1-a83f-4663-e0b5-02115ed72537"
      },
      "execution_count": null,
      "outputs": [
        {
          "output_type": "stream",
          "name": "stdout",
          "text": [
            "missing data \n",
            " Unnamed: 0     0\n",
            "Category       0\n",
            "Age            0\n",
            "Sex            0\n",
            "ALB            1\n",
            "ALP           18\n",
            "ALT            1\n",
            "AST            0\n",
            "BIL            0\n",
            "CHE            0\n",
            "CHOL          10\n",
            "CREA           0\n",
            "GGT            0\n",
            "PROT           1\n",
            "dtype: int64 \n",
            " Unnamed: 0    0.000000\n",
            "Category      0.000000\n",
            "Age           0.000000\n",
            "Sex           0.000000\n",
            "ALB           0.162602\n",
            "ALP           2.926829\n",
            "ALT           0.162602\n",
            "AST           0.000000\n",
            "BIL           0.000000\n",
            "CHE           0.000000\n",
            "CHOL          1.626016\n",
            "CREA          0.000000\n",
            "GGT           0.000000\n",
            "PROT          0.162602\n",
            "dtype: float64\n"
          ]
        },
        {
          "output_type": "execute_result",
          "data": {
            "text/plain": [
              "(589, 14)"
            ]
          },
          "metadata": {},
          "execution_count": 122
        }
      ]
    },
    {
      "cell_type": "code",
      "source": [
        "# edit the labels for the categorical variables\n",
        "dataset[\"Category1\"] = dataset[\"Category\"].map({'0=Blood Donor':0,\n",
        "                                                '0s=suspect Blood Donor':1,\n",
        "                                                '1=Hepatitis':2,\n",
        "                                                '2=Fibrosis':3,\n",
        "                                                '3=Cirrhosis':4})\n",
        "dataset[\"Sex1\"]=dataset[\"Sex\"].map({'m':0,\n",
        "                                    'f':1})\n",
        "dataset[\"Disease\"] = dataset['Category'].replace({'0=Blood Donor': 0,\n",
        "                                                  '0s=suspect Blood Donor': 0,\n",
        "                                                  '1=Hepatitis': 1,\n",
        "                                                  '2=Fibrosis': 1,\n",
        "                                                  '3=Cirrhosis': 1})\n",
        "dataset = dataset.drop(columns = [\"Category\", \"Sex\"])\n",
        "\n",
        "# remove ID variable\n",
        "dataset = dataset.iloc[: , 1:]\n",
        "dataset.head()"
      ],
      "metadata": {
        "colab": {
          "base_uri": "https://localhost:8080/",
          "height": 206
        },
        "id": "ko77cxhGS9LW",
        "outputId": "8baf1c98-e798-4b5f-b807-22388939c605"
      },
      "execution_count": null,
      "outputs": [
        {
          "output_type": "execute_result",
          "data": {
            "text/plain": [
              "   Age   ALB   ALP   ALT   AST   BIL    CHE  CHOL   CREA   GGT  PROT  \\\n",
              "0   32  38.5  52.5   7.7  22.1   7.5   6.93  3.23  106.0  12.1  69.0   \n",
              "1   32  38.5  70.3  18.0  24.7   3.9  11.17  4.80   74.0  15.6  76.5   \n",
              "2   32  46.9  74.7  36.2  52.6   6.1   8.84  5.20   86.0  33.2  79.3   \n",
              "3   32  43.2  52.0  30.6  22.6  18.9   7.33  4.74   80.0  33.8  75.7   \n",
              "4   32  39.2  74.1  32.6  24.8   9.6   9.15  4.32   76.0  29.9  68.7   \n",
              "\n",
              "   Category1  Sex1  Disease  \n",
              "0          0     0        0  \n",
              "1          0     0        0  \n",
              "2          0     0        0  \n",
              "3          0     0        0  \n",
              "4          0     0        0  "
            ],
            "text/html": [
              "\n",
              "  <div id=\"df-188f979a-c8e8-4037-a5e3-088407039ac4\" class=\"colab-df-container\">\n",
              "    <div>\n",
              "<style scoped>\n",
              "    .dataframe tbody tr th:only-of-type {\n",
              "        vertical-align: middle;\n",
              "    }\n",
              "\n",
              "    .dataframe tbody tr th {\n",
              "        vertical-align: top;\n",
              "    }\n",
              "\n",
              "    .dataframe thead th {\n",
              "        text-align: right;\n",
              "    }\n",
              "</style>\n",
              "<table border=\"1\" class=\"dataframe\">\n",
              "  <thead>\n",
              "    <tr style=\"text-align: right;\">\n",
              "      <th></th>\n",
              "      <th>Age</th>\n",
              "      <th>ALB</th>\n",
              "      <th>ALP</th>\n",
              "      <th>ALT</th>\n",
              "      <th>AST</th>\n",
              "      <th>BIL</th>\n",
              "      <th>CHE</th>\n",
              "      <th>CHOL</th>\n",
              "      <th>CREA</th>\n",
              "      <th>GGT</th>\n",
              "      <th>PROT</th>\n",
              "      <th>Category1</th>\n",
              "      <th>Sex1</th>\n",
              "      <th>Disease</th>\n",
              "    </tr>\n",
              "  </thead>\n",
              "  <tbody>\n",
              "    <tr>\n",
              "      <th>0</th>\n",
              "      <td>32</td>\n",
              "      <td>38.5</td>\n",
              "      <td>52.5</td>\n",
              "      <td>7.7</td>\n",
              "      <td>22.1</td>\n",
              "      <td>7.5</td>\n",
              "      <td>6.93</td>\n",
              "      <td>3.23</td>\n",
              "      <td>106.0</td>\n",
              "      <td>12.1</td>\n",
              "      <td>69.0</td>\n",
              "      <td>0</td>\n",
              "      <td>0</td>\n",
              "      <td>0</td>\n",
              "    </tr>\n",
              "    <tr>\n",
              "      <th>1</th>\n",
              "      <td>32</td>\n",
              "      <td>38.5</td>\n",
              "      <td>70.3</td>\n",
              "      <td>18.0</td>\n",
              "      <td>24.7</td>\n",
              "      <td>3.9</td>\n",
              "      <td>11.17</td>\n",
              "      <td>4.80</td>\n",
              "      <td>74.0</td>\n",
              "      <td>15.6</td>\n",
              "      <td>76.5</td>\n",
              "      <td>0</td>\n",
              "      <td>0</td>\n",
              "      <td>0</td>\n",
              "    </tr>\n",
              "    <tr>\n",
              "      <th>2</th>\n",
              "      <td>32</td>\n",
              "      <td>46.9</td>\n",
              "      <td>74.7</td>\n",
              "      <td>36.2</td>\n",
              "      <td>52.6</td>\n",
              "      <td>6.1</td>\n",
              "      <td>8.84</td>\n",
              "      <td>5.20</td>\n",
              "      <td>86.0</td>\n",
              "      <td>33.2</td>\n",
              "      <td>79.3</td>\n",
              "      <td>0</td>\n",
              "      <td>0</td>\n",
              "      <td>0</td>\n",
              "    </tr>\n",
              "    <tr>\n",
              "      <th>3</th>\n",
              "      <td>32</td>\n",
              "      <td>43.2</td>\n",
              "      <td>52.0</td>\n",
              "      <td>30.6</td>\n",
              "      <td>22.6</td>\n",
              "      <td>18.9</td>\n",
              "      <td>7.33</td>\n",
              "      <td>4.74</td>\n",
              "      <td>80.0</td>\n",
              "      <td>33.8</td>\n",
              "      <td>75.7</td>\n",
              "      <td>0</td>\n",
              "      <td>0</td>\n",
              "      <td>0</td>\n",
              "    </tr>\n",
              "    <tr>\n",
              "      <th>4</th>\n",
              "      <td>32</td>\n",
              "      <td>39.2</td>\n",
              "      <td>74.1</td>\n",
              "      <td>32.6</td>\n",
              "      <td>24.8</td>\n",
              "      <td>9.6</td>\n",
              "      <td>9.15</td>\n",
              "      <td>4.32</td>\n",
              "      <td>76.0</td>\n",
              "      <td>29.9</td>\n",
              "      <td>68.7</td>\n",
              "      <td>0</td>\n",
              "      <td>0</td>\n",
              "      <td>0</td>\n",
              "    </tr>\n",
              "  </tbody>\n",
              "</table>\n",
              "</div>\n",
              "    <div class=\"colab-df-buttons\">\n",
              "\n",
              "  <div class=\"colab-df-container\">\n",
              "    <button class=\"colab-df-convert\" onclick=\"convertToInteractive('df-188f979a-c8e8-4037-a5e3-088407039ac4')\"\n",
              "            title=\"Convert this dataframe to an interactive table.\"\n",
              "            style=\"display:none;\">\n",
              "\n",
              "  <svg xmlns=\"http://www.w3.org/2000/svg\" height=\"24px\" viewBox=\"0 -960 960 960\">\n",
              "    <path d=\"M120-120v-720h720v720H120Zm60-500h600v-160H180v160Zm220 220h160v-160H400v160Zm0 220h160v-160H400v160ZM180-400h160v-160H180v160Zm440 0h160v-160H620v160ZM180-180h160v-160H180v160Zm440 0h160v-160H620v160Z\"/>\n",
              "  </svg>\n",
              "    </button>\n",
              "\n",
              "  <style>\n",
              "    .colab-df-container {\n",
              "      display:flex;\n",
              "      gap: 12px;\n",
              "    }\n",
              "\n",
              "    .colab-df-convert {\n",
              "      background-color: #E8F0FE;\n",
              "      border: none;\n",
              "      border-radius: 50%;\n",
              "      cursor: pointer;\n",
              "      display: none;\n",
              "      fill: #1967D2;\n",
              "      height: 32px;\n",
              "      padding: 0 0 0 0;\n",
              "      width: 32px;\n",
              "    }\n",
              "\n",
              "    .colab-df-convert:hover {\n",
              "      background-color: #E2EBFA;\n",
              "      box-shadow: 0px 1px 2px rgba(60, 64, 67, 0.3), 0px 1px 3px 1px rgba(60, 64, 67, 0.15);\n",
              "      fill: #174EA6;\n",
              "    }\n",
              "\n",
              "    .colab-df-buttons div {\n",
              "      margin-bottom: 4px;\n",
              "    }\n",
              "\n",
              "    [theme=dark] .colab-df-convert {\n",
              "      background-color: #3B4455;\n",
              "      fill: #D2E3FC;\n",
              "    }\n",
              "\n",
              "    [theme=dark] .colab-df-convert:hover {\n",
              "      background-color: #434B5C;\n",
              "      box-shadow: 0px 1px 3px 1px rgba(0, 0, 0, 0.15);\n",
              "      filter: drop-shadow(0px 1px 2px rgba(0, 0, 0, 0.3));\n",
              "      fill: #FFFFFF;\n",
              "    }\n",
              "  </style>\n",
              "\n",
              "    <script>\n",
              "      const buttonEl =\n",
              "        document.querySelector('#df-188f979a-c8e8-4037-a5e3-088407039ac4 button.colab-df-convert');\n",
              "      buttonEl.style.display =\n",
              "        google.colab.kernel.accessAllowed ? 'block' : 'none';\n",
              "\n",
              "      async function convertToInteractive(key) {\n",
              "        const element = document.querySelector('#df-188f979a-c8e8-4037-a5e3-088407039ac4');\n",
              "        const dataTable =\n",
              "          await google.colab.kernel.invokeFunction('convertToInteractive',\n",
              "                                                    [key], {});\n",
              "        if (!dataTable) return;\n",
              "\n",
              "        const docLinkHtml = 'Like what you see? Visit the ' +\n",
              "          '<a target=\"_blank\" href=https://colab.research.google.com/notebooks/data_table.ipynb>data table notebook</a>'\n",
              "          + ' to learn more about interactive tables.';\n",
              "        element.innerHTML = '';\n",
              "        dataTable['output_type'] = 'display_data';\n",
              "        await google.colab.output.renderOutput(dataTable, element);\n",
              "        const docLink = document.createElement('div');\n",
              "        docLink.innerHTML = docLinkHtml;\n",
              "        element.appendChild(docLink);\n",
              "      }\n",
              "    </script>\n",
              "  </div>\n",
              "\n",
              "\n",
              "<div id=\"df-ec57f046-72bb-48dc-a699-a60d57ce4295\">\n",
              "  <button class=\"colab-df-quickchart\" onclick=\"quickchart('df-ec57f046-72bb-48dc-a699-a60d57ce4295')\"\n",
              "            title=\"Suggest charts.\"\n",
              "            style=\"display:none;\">\n",
              "\n",
              "<svg xmlns=\"http://www.w3.org/2000/svg\" height=\"24px\"viewBox=\"0 0 24 24\"\n",
              "     width=\"24px\">\n",
              "    <g>\n",
              "        <path d=\"M19 3H5c-1.1 0-2 .9-2 2v14c0 1.1.9 2 2 2h14c1.1 0 2-.9 2-2V5c0-1.1-.9-2-2-2zM9 17H7v-7h2v7zm4 0h-2V7h2v10zm4 0h-2v-4h2v4z\"/>\n",
              "    </g>\n",
              "</svg>\n",
              "  </button>\n",
              "\n",
              "<style>\n",
              "  .colab-df-quickchart {\n",
              "      --bg-color: #E8F0FE;\n",
              "      --fill-color: #1967D2;\n",
              "      --hover-bg-color: #E2EBFA;\n",
              "      --hover-fill-color: #174EA6;\n",
              "      --disabled-fill-color: #AAA;\n",
              "      --disabled-bg-color: #DDD;\n",
              "  }\n",
              "\n",
              "  [theme=dark] .colab-df-quickchart {\n",
              "      --bg-color: #3B4455;\n",
              "      --fill-color: #D2E3FC;\n",
              "      --hover-bg-color: #434B5C;\n",
              "      --hover-fill-color: #FFFFFF;\n",
              "      --disabled-bg-color: #3B4455;\n",
              "      --disabled-fill-color: #666;\n",
              "  }\n",
              "\n",
              "  .colab-df-quickchart {\n",
              "    background-color: var(--bg-color);\n",
              "    border: none;\n",
              "    border-radius: 50%;\n",
              "    cursor: pointer;\n",
              "    display: none;\n",
              "    fill: var(--fill-color);\n",
              "    height: 32px;\n",
              "    padding: 0;\n",
              "    width: 32px;\n",
              "  }\n",
              "\n",
              "  .colab-df-quickchart:hover {\n",
              "    background-color: var(--hover-bg-color);\n",
              "    box-shadow: 0 1px 2px rgba(60, 64, 67, 0.3), 0 1px 3px 1px rgba(60, 64, 67, 0.15);\n",
              "    fill: var(--button-hover-fill-color);\n",
              "  }\n",
              "\n",
              "  .colab-df-quickchart-complete:disabled,\n",
              "  .colab-df-quickchart-complete:disabled:hover {\n",
              "    background-color: var(--disabled-bg-color);\n",
              "    fill: var(--disabled-fill-color);\n",
              "    box-shadow: none;\n",
              "  }\n",
              "\n",
              "  .colab-df-spinner {\n",
              "    border: 2px solid var(--fill-color);\n",
              "    border-color: transparent;\n",
              "    border-bottom-color: var(--fill-color);\n",
              "    animation:\n",
              "      spin 1s steps(1) infinite;\n",
              "  }\n",
              "\n",
              "  @keyframes spin {\n",
              "    0% {\n",
              "      border-color: transparent;\n",
              "      border-bottom-color: var(--fill-color);\n",
              "      border-left-color: var(--fill-color);\n",
              "    }\n",
              "    20% {\n",
              "      border-color: transparent;\n",
              "      border-left-color: var(--fill-color);\n",
              "      border-top-color: var(--fill-color);\n",
              "    }\n",
              "    30% {\n",
              "      border-color: transparent;\n",
              "      border-left-color: var(--fill-color);\n",
              "      border-top-color: var(--fill-color);\n",
              "      border-right-color: var(--fill-color);\n",
              "    }\n",
              "    40% {\n",
              "      border-color: transparent;\n",
              "      border-right-color: var(--fill-color);\n",
              "      border-top-color: var(--fill-color);\n",
              "    }\n",
              "    60% {\n",
              "      border-color: transparent;\n",
              "      border-right-color: var(--fill-color);\n",
              "    }\n",
              "    80% {\n",
              "      border-color: transparent;\n",
              "      border-right-color: var(--fill-color);\n",
              "      border-bottom-color: var(--fill-color);\n",
              "    }\n",
              "    90% {\n",
              "      border-color: transparent;\n",
              "      border-bottom-color: var(--fill-color);\n",
              "    }\n",
              "  }\n",
              "</style>\n",
              "\n",
              "  <script>\n",
              "    async function quickchart(key) {\n",
              "      const quickchartButtonEl =\n",
              "        document.querySelector('#' + key + ' button');\n",
              "      quickchartButtonEl.disabled = true;  // To prevent multiple clicks.\n",
              "      quickchartButtonEl.classList.add('colab-df-spinner');\n",
              "      try {\n",
              "        const charts = await google.colab.kernel.invokeFunction(\n",
              "            'suggestCharts', [key], {});\n",
              "      } catch (error) {\n",
              "        console.error('Error during call to suggestCharts:', error);\n",
              "      }\n",
              "      quickchartButtonEl.classList.remove('colab-df-spinner');\n",
              "      quickchartButtonEl.classList.add('colab-df-quickchart-complete');\n",
              "    }\n",
              "    (() => {\n",
              "      let quickchartButtonEl =\n",
              "        document.querySelector('#df-ec57f046-72bb-48dc-a699-a60d57ce4295 button');\n",
              "      quickchartButtonEl.style.display =\n",
              "        google.colab.kernel.accessAllowed ? 'block' : 'none';\n",
              "    })();\n",
              "  </script>\n",
              "</div>\n",
              "    </div>\n",
              "  </div>\n"
            ]
          },
          "metadata": {},
          "execution_count": 123
        }
      ]
    },
    {
      "cell_type": "markdown",
      "source": [
        "## Step 3: Describe\n",
        "### LABORATORY TEST RESULTS\n",
        "* Use the function describe to provide a summary tables for the laboratory test results, controlling for 2 decimal figures\n",
        "* Plot the distribution of the test results using a histogram, overlaying a normal density\n",
        "* Produce a boxplot of the results\n",
        "* Test for normality of the data using a test of your choice and comment on the output\n",
        "* Construct a 95% confidence interval on the lab test results\n",
        "</br>\n",
        "\n",
        "**Complete on the rest of the variables. Can you produce a single table with the lab results as columns? Are there outliers? Can you plot the results and test for normality using a for loop? Can you plot a boxplot for all the results in a single figure? How do you interpret the results for the normality test? Print the result of the test as you loop over the variables. Can you produce q-q plots, what information do they convey?**"
      ],
      "metadata": {
        "id": "c3Cf9swK7TOV"
      }
    },
    {
      "cell_type": "code",
      "source": [
        "creatinine = 'CREA'\n",
        "print(\"Creatine Lab Test Results\\n\", dataset[creatinine].describe().apply(\"{0:.2f}\".format))"
      ],
      "metadata": {
        "colab": {
          "base_uri": "https://localhost:8080/"
        },
        "id": "mAldcdqZ7YZe",
        "outputId": "11b76328-bc83-4e6f-91eb-c499deb6c87a"
      },
      "execution_count": null,
      "outputs": [
        {
          "output_type": "stream",
          "name": "stdout",
          "text": [
            "Creatine Lab Test Results\n",
            " count     589.00\n",
            "mean       81.67\n",
            "std        50.70\n",
            "min         8.00\n",
            "25%        68.00\n",
            "50%        77.00\n",
            "75%        89.00\n",
            "max      1079.10\n",
            "Name: CREA, dtype: object\n"
          ]
        }
      ]
    },
    {
      "cell_type": "code",
      "source": [
        "# histogram\n",
        "\n",
        "# function for mapping the normal pdf\n",
        "def map_pdf(x, **kwargs):\n",
        "    mu, std = scipy.stats.norm.fit(x)\n",
        "    x0, x1 = p1.axes[0][0].get_xlim()  # axes for p1 is required to determine x_pdf\n",
        "    x_pdf = np.linspace(x0, x1, len(x))\n",
        "    y_pdf = scipy.stats.norm.pdf(x_pdf, mu, std)\n",
        "    plt.plot(x_pdf, y_pdf, c='r')\n",
        "\n",
        "p1 = sns.displot(x=creatinine, data = dataset, kind='hist', bins=40, stat='density')\n",
        "p1.map(map_pdf, creatinine)\n",
        "p1.set(title='Distribution of '+ creatinine,\n",
        "       xlabel='Creatine')\n",
        "print(p1)"
      ],
      "metadata": {
        "colab": {
          "base_uri": "https://localhost:8080/",
          "height": 544
        },
        "id": "MC5PG4m5z8W8",
        "outputId": "eb6f2726-61fd-4c0d-e20b-4a0e4274cd22"
      },
      "execution_count": null,
      "outputs": [
        {
          "output_type": "stream",
          "name": "stdout",
          "text": [
            "<seaborn.axisgrid.FacetGrid object at 0x7f0f96a33700>\n"
          ]
        },
        {
          "output_type": "display_data",
          "data": {
            "text/plain": [
              "<Figure size 500x500 with 1 Axes>"
            ],
            "image/png": "[encoded data removed]"
          },
          "metadata": {}
        }
      ]
    },
    {
      "cell_type": "code",
      "source": [
        "# boxplot\n",
        "\n",
        "p2 = sns.boxplot(data=dataset, x=creatinine, color=\".8\", linewidth=.75)\n",
        "p2.set(title='Distribution of '+ creatinine,\n",
        "       xlabel='Creatinine')\n",
        "print(p2)"
      ],
      "metadata": {
        "colab": {
          "base_uri": "https://localhost:8080/",
          "height": 490
        },
        "id": "DjRJ4HSuCD_t",
        "outputId": "ae767b13-251e-43af-e9fe-6640435015c8"
      },
      "execution_count": null,
      "outputs": [
        {
          "output_type": "stream",
          "name": "stdout",
          "text": [
            "Axes(0.125,0.11;0.775x0.77)\n"
          ]
        },
        {
          "output_type": "display_data",
          "data": {
            "text/plain": [
              "<Figure size 640x480 with 1 Axes>"
            ],
            "image/png": "[encoded data removed]"
          },
          "metadata": {}
        }
      ]
    },
    {
      "cell_type": "code",
      "source": [
        "# from the histogram and the boxplot we can observe that the variable creatinine may include a very large outlier\n",
        "# compute top and bottom 1%, median\n",
        "print(\"Top and bottom 1% \\n\", dataset[creatinine].quantile([0.01, 0.5, 0.99]))\n",
        "# given the right tail of the distribution, remove the top 1% and replot histogram and boxplot\n",
        "df_crea = dataset[dataset[creatinine] < dataset[creatinine].quantile(0.99)]\n",
        "\n",
        "fig, (ax1, ax2) = plt.subplots(1, 2, figsize=(15, 6))\n",
        "fig.suptitle('Distribution of '+ creatinine)\n",
        "sns.histplot(data = df_crea, x=creatinine, bins=40, stat='density', ax=ax1)\n",
        "sns.boxplot(data = df_crea, x=creatinine, color=\".8\", linewidth=.75, ax=ax2)"
      ],
      "metadata": {
        "colab": {
          "base_uri": "https://localhost:8080/",
          "height": 711
        },
        "id": "4ZPrDWQzD4kd",
        "outputId": "3a1cb84f-968b-4c5e-ed81-c644ae8e9ba4"
      },
      "execution_count": null,
      "outputs": [
        {
          "output_type": "stream",
          "name": "stdout",
          "text": [
            "Top and bottom 1% \n",
            " 0.01     44.872\n",
            "0.50     77.000\n",
            "0.99    137.444\n",
            "Name: CREA, dtype: float64\n"
          ]
        },
        {
          "output_type": "execute_result",
          "data": {
            "text/plain": [
              "<Axes: xlabel='CREA'>"
            ]
          },
          "metadata": {},
          "execution_count": 127
        },
        {
          "output_type": "display_data",
          "data": {
            "text/plain": [
              "<Figure size 1500x600 with 2 Axes>"
            ],
            "image/png": "[encoded data removed]"
          },
          "metadata": {}
        }
      ]
    },
    {
      "cell_type": "code",
      "source": [
        "# test for normality of data\n",
        "\n",
        "stat, p = shapiro(dataset[creatinine])\n",
        "print(creatinine, ' Statistics=%.3f, p=%.3f' % (stat, p))\n",
        "\n",
        "# q-q- plot\n",
        "# ... write your code here"
      ],
      "metadata": {
        "colab": {
          "base_uri": "https://localhost:8080/"
        },
        "id": "fPUwjK0B80cn",
        "outputId": "07310793-fc4d-477c-9251-d6be50590f18"
      },
      "execution_count": null,
      "outputs": [
        {
          "output_type": "stream",
          "name": "stdout",
          "text": [
            "CREA  Statistics=0.243, p=0.000\n"
          ]
        }
      ]
    },
    {
      "cell_type": "code",
      "source": [
        "# 95% confidence interval on creatinine\n",
        "\n",
        "# Sample size\n",
        "n = len(dataset[creatinine])\n",
        "# Confidence level\n",
        "C = 0.95  # 95%\n",
        "# Significance level, α\n",
        "alpha = 1 - C\n",
        "# Number of tails\n",
        "tails = 2\n",
        "# Quantile (the cumulative probability)\n",
        "q = 1 - (alpha / tails)\n",
        "# Degrees of freedom\n",
        "dof = n - 1\n",
        "# Critical t-statistic, calculated using the percent-point function (aka the\n",
        "# quantile function) of the t-distribution\n",
        "t_star = scipy.stats.t.ppf(q, dof)\n",
        "# Confidence interval\n",
        "ci_upper = dataset[creatinine].mean() + t_star * dataset[creatinine].std() / np.sqrt(n)\n",
        "ci_lower = dataset[creatinine].mean() - t_star * dataset[creatinine].std() / np.sqrt(n)\n",
        "\n",
        "print(f'We are 95% sure that the true mean lies between {ci_lower:4.1f} and {ci_upper:5.1f}')"
      ],
      "metadata": {
        "colab": {
          "base_uri": "https://localhost:8080/"
        },
        "id": "6q5C0hla6d3C",
        "outputId": "05881039-2e8e-4e8c-d1cc-301d6afebf47"
      },
      "execution_count": null,
      "outputs": [
        {
          "output_type": "stream",
          "name": "stdout",
          "text": [
            "We are 95% sure that the true mean lies between 77.6 and  85.8\n"
          ]
        }
      ]
    },
    {
      "cell_type": "code",
      "source": [
        "# reproduce the results for all the lab test result variables"
      ],
      "metadata": {
        "id": "Np8deQs9ZMnI"
      },
      "execution_count": null,
      "outputs": []
    },
    {
      "cell_type": "markdown",
      "source": [
        "### DEMOGRAPHICS\n",
        "* create a variable named \"age_group\" that groups age in the following categories: <30, 30-39, 40-49, >49\n",
        "* summarise patients counting observations by age group and sex\n",
        "* summarise patients counting observations by age group and disease\n",
        "* produce a summary table of the lab test results by age group and sex\n",
        "* plot histogram of lab test results grouping by sex\n",
        "\n",
        "**Can you plot lab test results grouping by age categories? Choose the type of graph you prefer. Do you observe any differences in the test results among men and wone and across age groups?**"
      ],
      "metadata": {
        "id": "Wz2660zR_mLl"
      }
    },
    {
      "cell_type": "code",
      "source": [
        "dataset.loc[dataset['Age']<=30, 'age_group'] = '<30'\n",
        "dataset.loc[dataset['Age'].between(30,39), 'age_group'] = '30-39'\n",
        "dataset.loc[dataset['Age'].between(40,49), 'age_group'] = '40-49'\n",
        "dataset.loc[dataset['Age'].between(50,59), 'age_group'] = '50-59'\n",
        "dataset.loc[dataset['Age'].between(60,69), 'age_group'] = '60-69'\n",
        "dataset.loc[dataset['Age']>69, 'age_group'] = '>69'\n",
        "\n",
        "group = dataset.groupby(['Sex1', 'age_group'])\n",
        "group = group.size()\n",
        "print(group.reset_index(name='Count observations'))\n",
        "\n",
        "# What do you observe?"
      ],
      "metadata": {
        "colab": {
          "base_uri": "https://localhost:8080/"
        },
        "id": "E8FXTCyU_qZz",
        "outputId": "d2e6fe25-fe3e-4807-a5a6-7318ca09eeaf"
      },
      "execution_count": null,
      "outputs": [
        {
          "output_type": "stream",
          "name": "stdout",
          "text": [
            "    Sex1 age_group  Count observations\n",
            "0      0     30-39                  99\n",
            "1      0     40-49                 114\n",
            "2      0     50-59                  98\n",
            "3      0     60-69                  39\n",
            "4      0       <30                   4\n",
            "5      0       >69                   9\n",
            "6      1     30-39                  50\n",
            "7      1     40-49                  79\n",
            "8      1     50-59                  73\n",
            "9      1     60-69                  23\n",
            "10     1       >69                   1\n"
          ]
        }
      ]
    },
    {
      "cell_type": "code",
      "source": [
        "# count patients (with %) grouping by presence of HCV virus and age group\n",
        "\n",
        "df_plot = dataset.groupby(['age_group','Disease']).size().reset_index()\n",
        "df_plot.columns = ['age_group','Disease', 'count']\n",
        "df_plot = df_plot.astype({'Disease':'str'})\n",
        "df_plot['percentage'] = dataset.groupby(['age_group','Disease'], group_keys=True).size().groupby(level=0).apply(lambda x: 100*x/float(x.sum())).values.round(2).astype(str)\n",
        "df_plot['percentage'] = \"(\" + df_plot['percentage'] + '%)'\n",
        "df_plot"
      ],
      "metadata": {
        "colab": {
          "base_uri": "https://localhost:8080/",
          "height": 578
        },
        "id": "-GkLw-hBaxt6",
        "outputId": "46046bd0-a38f-4355-e993-3535ce66fb35"
      },
      "execution_count": null,
      "outputs": [
        {
          "output_type": "stream",
          "name": "stderr",
          "text": [
            "<ipython-input-132-251a6af2c111>:6: FutureWarning: Not prepending group keys to the result index of transform-like apply. In the future, the group keys will be included in the index, regardless of whether the applied function returns a like-indexed object.\n",
            "To preserve the previous behavior, use\n",
            "\n",
            "\t>>> .groupby(..., group_keys=False)\n",
            "\n",
            "To adopt the future behavior and silence this warning, use \n",
            "\n",
            "\t>>> .groupby(..., group_keys=True)\n",
            "  df_plot['percentage'] = dataset.groupby(['age_group','Disease'], group_keys=True).size().groupby(level=0).apply(lambda x: 100*x/float(x.sum())).values.round(2).astype(str)\n"
          ]
        },
        {
          "output_type": "execute_result",
          "data": {
            "text/plain": [
              "   age_group Disease  count percentage\n",
              "0      30-39       0    139   (93.29%)\n",
              "1      30-39       1     10    (6.71%)\n",
              "2      40-49       0    180   (93.26%)\n",
              "3      40-49       1     13    (6.74%)\n",
              "4      50-59       0    150   (87.72%)\n",
              "5      50-59       1     21   (12.28%)\n",
              "6      60-69       0     55   (88.71%)\n",
              "7      60-69       1      7   (11.29%)\n",
              "8        <30       1      4   (100.0%)\n",
              "9        >69       0      9    (90.0%)\n",
              "10       >69       1      1    (10.0%)"
            ],
            "text/html": [
              "\n",
              "  <div id=\"df-d77b2bb0-4b56-4a17-9e9c-c63f77c902fb\" class=\"colab-df-container\">\n",
              "    <div>\n",
              "<style scoped>\n",
              "    .dataframe tbody tr th:only-of-type {\n",
              "        vertical-align: middle;\n",
              "    }\n",
              "\n",
              "    .dataframe tbody tr th {\n",
              "        vertical-align: top;\n",
              "    }\n",
              "\n",
              "    .dataframe thead th {\n",
              "        text-align: right;\n",
              "    }\n",
              "</style>\n",
              "<table border=\"1\" class=\"dataframe\">\n",
              "  <thead>\n",
              "    <tr style=\"text-align: right;\">\n",
              "      <th></th>\n",
              "      <th>age_group</th>\n",
              "      <th>Disease</th>\n",
              "      <th>count</th>\n",
              "      <th>percentage</th>\n",
              "    </tr>\n",
              "  </thead>\n",
              "  <tbody>\n",
              "    <tr>\n",
              "      <th>0</th>\n",
              "      <td>30-39</td>\n",
              "      <td>0</td>\n",
              "      <td>139</td>\n",
              "      <td>(93.29%)</td>\n",
              "    </tr>\n",
              "    <tr>\n",
              "      <th>1</th>\n",
              "      <td>30-39</td>\n",
              "      <td>1</td>\n",
              "      <td>10</td>\n",
              "      <td>(6.71%)</td>\n",
              "    </tr>\n",
              "    <tr>\n",
              "      <th>2</th>\n",
              "      <td>40-49</td>\n",
              "      <td>0</td>\n",
              "      <td>180</td>\n",
              "      <td>(93.26%)</td>\n",
              "    </tr>\n",
              "    <tr>\n",
              "      <th>3</th>\n",
              "      <td>40-49</td>\n",
              "      <td>1</td>\n",
              "      <td>13</td>\n",
              "      <td>(6.74%)</td>\n",
              "    </tr>\n",
              "    <tr>\n",
              "      <th>4</th>\n",
              "      <td>50-59</td>\n",
              "      <td>0</td>\n",
              "      <td>150</td>\n",
              "      <td>(87.72%)</td>\n",
              "    </tr>\n",
              "    <tr>\n",
              "      <th>5</th>\n",
              "      <td>50-59</td>\n",
              "      <td>1</td>\n",
              "      <td>21</td>\n",
              "      <td>(12.28%)</td>\n",
              "    </tr>\n",
              "    <tr>\n",
              "      <th>6</th>\n",
              "      <td>60-69</td>\n",
              "      <td>0</td>\n",
              "      <td>55</td>\n",
              "      <td>(88.71%)</td>\n",
              "    </tr>\n",
              "    <tr>\n",
              "      <th>7</th>\n",
              "      <td>60-69</td>\n",
              "      <td>1</td>\n",
              "      <td>7</td>\n",
              "      <td>(11.29%)</td>\n",
              "    </tr>\n",
              "    <tr>\n",
              "      <th>8</th>\n",
              "      <td>&lt;30</td>\n",
              "      <td>1</td>\n",
              "      <td>4</td>\n",
              "      <td>(100.0%)</td>\n",
              "    </tr>\n",
              "    <tr>\n",
              "      <th>9</th>\n",
              "      <td>&gt;69</td>\n",
              "      <td>0</td>\n",
              "      <td>9</td>\n",
              "      <td>(90.0%)</td>\n",
              "    </tr>\n",
              "    <tr>\n",
              "      <th>10</th>\n",
              "      <td>&gt;69</td>\n",
              "      <td>1</td>\n",
              "      <td>1</td>\n",
              "      <td>(10.0%)</td>\n",
              "    </tr>\n",
              "  </tbody>\n",
              "</table>\n",
              "</div>\n",
              "    <div class=\"colab-df-buttons\">\n",
              "\n",
              "  <div class=\"colab-df-container\">\n",
              "    <button class=\"colab-df-convert\" onclick=\"convertToInteractive('df-d77b2bb0-4b56-4a17-9e9c-c63f77c902fb')\"\n",
              "            title=\"Convert this dataframe to an interactive table.\"\n",
              "            style=\"display:none;\">\n",
              "\n",
              "  <svg xmlns=\"http://www.w3.org/2000/svg\" height=\"24px\" viewBox=\"0 -960 960 960\">\n",
              "    <path d=\"M120-120v-720h720v720H120Zm60-500h600v-160H180v160Zm220 220h160v-160H400v160Zm0 220h160v-160H400v160ZM180-400h160v-160H180v160Zm440 0h160v-160H620v160ZM180-180h160v-160H180v160Zm440 0h160v-160H620v160Z\"/>\n",
              "  </svg>\n",
              "    </button>\n",
              "\n",
              "  <style>\n",
              "    .colab-df-container {\n",
              "      display:flex;\n",
              "      gap: 12px;\n",
              "    }\n",
              "\n",
              "    .colab-df-convert {\n",
              "      background-color: #E8F0FE;\n",
              "      border: none;\n",
              "      border-radius: 50%;\n",
              "      cursor: pointer;\n",
              "      display: none;\n",
              "      fill: #1967D2;\n",
              "      height: 32px;\n",
              "      padding: 0 0 0 0;\n",
              "      width: 32px;\n",
              "    }\n",
              "\n",
              "    .colab-df-convert:hover {\n",
              "      background-color: #E2EBFA;\n",
              "      box-shadow: 0px 1px 2px rgba(60, 64, 67, 0.3), 0px 1px 3px 1px rgba(60, 64, 67, 0.15);\n",
              "      fill: #174EA6;\n",
              "    }\n",
              "\n",
              "    .colab-df-buttons div {\n",
              "      margin-bottom: 4px;\n",
              "    }\n",
              "\n",
              "    [theme=dark] .colab-df-convert {\n",
              "      background-color: #3B4455;\n",
              "      fill: #D2E3FC;\n",
              "    }\n",
              "\n",
              "    [theme=dark] .colab-df-convert:hover {\n",
              "      background-color: #434B5C;\n",
              "      box-shadow: 0px 1px 3px 1px rgba(0, 0, 0, 0.15);\n",
              "      filter: drop-shadow(0px 1px 2px rgba(0, 0, 0, 0.3));\n",
              "      fill: #FFFFFF;\n",
              "    }\n",
              "  </style>\n",
              "\n",
              "    <script>\n",
              "      const buttonEl =\n",
              "        document.querySelector('#df-d77b2bb0-4b56-4a17-9e9c-c63f77c902fb button.colab-df-convert');\n",
              "      buttonEl.style.display =\n",
              "        google.colab.kernel.accessAllowed ? 'block' : 'none';\n",
              "\n",
              "      async function convertToInteractive(key) {\n",
              "        const element = document.querySelector('#df-d77b2bb0-4b56-4a17-9e9c-c63f77c902fb');\n",
              "        const dataTable =\n",
              "          await google.colab.kernel.invokeFunction('convertToInteractive',\n",
              "                                                    [key], {});\n",
              "        if (!dataTable) return;\n",
              "\n",
              "        const docLinkHtml = 'Like what you see? Visit the ' +\n",
              "          '<a target=\"_blank\" href=https://colab.research.google.com/notebooks/data_table.ipynb>data table notebook</a>'\n",
              "          + ' to learn more about interactive tables.';\n",
              "        element.innerHTML = '';\n",
              "        dataTable['output_type'] = 'display_data';\n",
              "        await google.colab.output.renderOutput(dataTable, element);\n",
              "        const docLink = document.createElement('div');\n",
              "        docLink.innerHTML = docLinkHtml;\n",
              "        element.appendChild(docLink);\n",
              "      }\n",
              "    </script>\n",
              "  </div>\n",
              "\n",
              "\n",
              "<div id=\"df-5519b489-5e61-4bf6-934c-d8e7e8b023d9\">\n",
              "  <button class=\"colab-df-quickchart\" onclick=\"quickchart('df-5519b489-5e61-4bf6-934c-d8e7e8b023d9')\"\n",
              "            title=\"Suggest charts.\"\n",
              "            style=\"display:none;\">\n",
              "\n",
              "<svg xmlns=\"http://www.w3.org/2000/svg\" height=\"24px\"viewBox=\"0 0 24 24\"\n",
              "     width=\"24px\">\n",
              "    <g>\n",
              "        <path d=\"M19 3H5c-1.1 0-2 .9-2 2v14c0 1.1.9 2 2 2h14c1.1 0 2-.9 2-2V5c0-1.1-.9-2-2-2zM9 17H7v-7h2v7zm4 0h-2V7h2v10zm4 0h-2v-4h2v4z\"/>\n",
              "    </g>\n",
              "</svg>\n",
              "  </button>\n",
              "\n",
              "<style>\n",
              "  .colab-df-quickchart {\n",
              "      --bg-color: #E8F0FE;\n",
              "      --fill-color: #1967D2;\n",
              "      --hover-bg-color: #E2EBFA;\n",
              "      --hover-fill-color: #174EA6;\n",
              "      --disabled-fill-color: #AAA;\n",
              "      --disabled-bg-color: #DDD;\n",
              "  }\n",
              "\n",
              "  [theme=dark] .colab-df-quickchart {\n",
              "      --bg-color: #3B4455;\n",
              "      --fill-color: #D2E3FC;\n",
              "      --hover-bg-color: #434B5C;\n",
              "      --hover-fill-color: #FFFFFF;\n",
              "      --disabled-bg-color: #3B4455;\n",
              "      --disabled-fill-color: #666;\n",
              "  }\n",
              "\n",
              "  .colab-df-quickchart {\n",
              "    background-color: var(--bg-color);\n",
              "    border: none;\n",
              "    border-radius: 50%;\n",
              "    cursor: pointer;\n",
              "    display: none;\n",
              "    fill: var(--fill-color);\n",
              "    height: 32px;\n",
              "    padding: 0;\n",
              "    width: 32px;\n",
              "  }\n",
              "\n",
              "  .colab-df-quickchart:hover {\n",
              "    background-color: var(--hover-bg-color);\n",
              "    box-shadow: 0 1px 2px rgba(60, 64, 67, 0.3), 0 1px 3px 1px rgba(60, 64, 67, 0.15);\n",
              "    fill: var(--button-hover-fill-color);\n",
              "  }\n",
              "\n",
              "  .colab-df-quickchart-complete:disabled,\n",
              "  .colab-df-quickchart-complete:disabled:hover {\n",
              "    background-color: var(--disabled-bg-color);\n",
              "    fill: var(--disabled-fill-color);\n",
              "    box-shadow: none;\n",
              "  }\n",
              "\n",
              "  .colab-df-spinner {\n",
              "    border: 2px solid var(--fill-color);\n",
              "    border-color: transparent;\n",
              "    border-bottom-color: var(--fill-color);\n",
              "    animation:\n",
              "      spin 1s steps(1) infinite;\n",
              "  }\n",
              "\n",
              "  @keyframes spin {\n",
              "    0% {\n",
              "      border-color: transparent;\n",
              "      border-bottom-color: var(--fill-color);\n",
              "      border-left-color: var(--fill-color);\n",
              "    }\n",
              "    20% {\n",
              "      border-color: transparent;\n",
              "      border-left-color: var(--fill-color);\n",
              "      border-top-color: var(--fill-color);\n",
              "    }\n",
              "    30% {\n",
              "      border-color: transparent;\n",
              "      border-left-color: var(--fill-color);\n",
              "      border-top-color: var(--fill-color);\n",
              "      border-right-color: var(--fill-color);\n",
              "    }\n",
              "    40% {\n",
              "      border-color: transparent;\n",
              "      border-right-color: var(--fill-color);\n",
              "      border-top-color: var(--fill-color);\n",
              "    }\n",
              "    60% {\n",
              "      border-color: transparent;\n",
              "      border-right-color: var(--fill-color);\n",
              "    }\n",
              "    80% {\n",
              "      border-color: transparent;\n",
              "      border-right-color: var(--fill-color);\n",
              "      border-bottom-color: var(--fill-color);\n",
              "    }\n",
              "    90% {\n",
              "      border-color: transparent;\n",
              "      border-bottom-color: var(--fill-color);\n",
              "    }\n",
              "  }\n",
              "</style>\n",
              "\n",
              "  <script>\n",
              "    async function quickchart(key) {\n",
              "      const quickchartButtonEl =\n",
              "        document.querySelector('#' + key + ' button');\n",
              "      quickchartButtonEl.disabled = true;  // To prevent multiple clicks.\n",
              "      quickchartButtonEl.classList.add('colab-df-spinner');\n",
              "      try {\n",
              "        const charts = await google.colab.kernel.invokeFunction(\n",
              "            'suggestCharts', [key], {});\n",
              "      } catch (error) {\n",
              "        console.error('Error during call to suggestCharts:', error);\n",
              "      }\n",
              "      quickchartButtonEl.classList.remove('colab-df-spinner');\n",
              "      quickchartButtonEl.classList.add('colab-df-quickchart-complete');\n",
              "    }\n",
              "    (() => {\n",
              "      let quickchartButtonEl =\n",
              "        document.querySelector('#df-5519b489-5e61-4bf6-934c-d8e7e8b023d9 button');\n",
              "      quickchartButtonEl.style.display =\n",
              "        google.colab.kernel.accessAllowed ? 'block' : 'none';\n",
              "    })();\n",
              "  </script>\n",
              "</div>\n",
              "    </div>\n",
              "  </div>\n"
            ]
          },
          "metadata": {},
          "execution_count": 132
        }
      ]
    },
    {
      "cell_type": "code",
      "source": [
        "# summary of creatinine by age group\n",
        "\n",
        "sum_df = dataset.groupby(['Sex1', 'age_group'])[[creatinine]].mean().add_prefix('mean_').reset_index()\n",
        "sum_df"
      ],
      "metadata": {
        "colab": {
          "base_uri": "https://localhost:8080/",
          "height": 394
        },
        "id": "JSqT5F1ubW9E",
        "outputId": "98880348-212e-4682-9aa4-e7babcf72704"
      },
      "execution_count": null,
      "outputs": [
        {
          "output_type": "execute_result",
          "data": {
            "text/plain": [
              "    Sex1 age_group  mean_CREA\n",
              "0      0     30-39  88.510101\n",
              "1      0     40-49  94.399123\n",
              "2      0     50-59  83.829592\n",
              "3      0     60-69  83.982051\n",
              "4      0       <30  64.150000\n",
              "5      0       >69  74.222222\n",
              "6      1     30-39  70.032000\n",
              "7      1     40-49  75.427848\n",
              "8      1     50-59  69.839726\n",
              "9      1     60-69  67.095652\n",
              "10     1       >69  62.000000"
            ],
            "text/html": [
              "\n",
              "  <div id=\"df-35c053cb-20a8-4b89-9ff6-7a4ae7b6be13\" class=\"colab-df-container\">\n",
              "    <div>\n",
              "<style scoped>\n",
              "    .dataframe tbody tr th:only-of-type {\n",
              "        vertical-align: middle;\n",
              "    }\n",
              "\n",
              "    .dataframe tbody tr th {\n",
              "        vertical-align: top;\n",
              "    }\n",
              "\n",
              "    .dataframe thead th {\n",
              "        text-align: right;\n",
              "    }\n",
              "</style>\n",
              "<table border=\"1\" class=\"dataframe\">\n",
              "  <thead>\n",
              "    <tr style=\"text-align: right;\">\n",
              "      <th></th>\n",
              "      <th>Sex1</th>\n",
              "      <th>age_group</th>\n",
              "      <th>mean_CREA</th>\n",
              "    </tr>\n",
              "  </thead>\n",
              "  <tbody>\n",
              "    <tr>\n",
              "      <th>0</th>\n",
              "      <td>0</td>\n",
              "      <td>30-39</td>\n",
              "      <td>88.510101</td>\n",
              "    </tr>\n",
              "    <tr>\n",
              "      <th>1</th>\n",
              "      <td>0</td>\n",
              "      <td>40-49</td>\n",
              "      <td>94.399123</td>\n",
              "    </tr>\n",
              "    <tr>\n",
              "      <th>2</th>\n",
              "      <td>0</td>\n",
              "      <td>50-59</td>\n",
              "      <td>83.829592</td>\n",
              "    </tr>\n",
              "    <tr>\n",
              "      <th>3</th>\n",
              "      <td>0</td>\n",
              "      <td>60-69</td>\n",
              "      <td>83.982051</td>\n",
              "    </tr>\n",
              "    <tr>\n",
              "      <th>4</th>\n",
              "      <td>0</td>\n",
              "      <td>&lt;30</td>\n",
              "      <td>64.150000</td>\n",
              "    </tr>\n",
              "    <tr>\n",
              "      <th>5</th>\n",
              "      <td>0</td>\n",
              "      <td>&gt;69</td>\n",
              "      <td>74.222222</td>\n",
              "    </tr>\n",
              "    <tr>\n",
              "      <th>6</th>\n",
              "      <td>1</td>\n",
              "      <td>30-39</td>\n",
              "      <td>70.032000</td>\n",
              "    </tr>\n",
              "    <tr>\n",
              "      <th>7</th>\n",
              "      <td>1</td>\n",
              "      <td>40-49</td>\n",
              "      <td>75.427848</td>\n",
              "    </tr>\n",
              "    <tr>\n",
              "      <th>8</th>\n",
              "      <td>1</td>\n",
              "      <td>50-59</td>\n",
              "      <td>69.839726</td>\n",
              "    </tr>\n",
              "    <tr>\n",
              "      <th>9</th>\n",
              "      <td>1</td>\n",
              "      <td>60-69</td>\n",
              "      <td>67.095652</td>\n",
              "    </tr>\n",
              "    <tr>\n",
              "      <th>10</th>\n",
              "      <td>1</td>\n",
              "      <td>&gt;69</td>\n",
              "      <td>62.000000</td>\n",
              "    </tr>\n",
              "  </tbody>\n",
              "</table>\n",
              "</div>\n",
              "    <div class=\"colab-df-buttons\">\n",
              "\n",
              "  <div class=\"colab-df-container\">\n",
              "    <button class=\"colab-df-convert\" onclick=\"convertToInteractive('df-35c053cb-20a8-4b89-9ff6-7a4ae7b6be13')\"\n",
              "            title=\"Convert this dataframe to an interactive table.\"\n",
              "            style=\"display:none;\">\n",
              "\n",
              "  <svg xmlns=\"http://www.w3.org/2000/svg\" height=\"24px\" viewBox=\"0 -960 960 960\">\n",
              "    <path d=\"M120-120v-720h720v720H120Zm60-500h600v-160H180v160Zm220 220h160v-160H400v160Zm0 220h160v-160H400v160ZM180-400h160v-160H180v160Zm440 0h160v-160H620v160ZM180-180h160v-160H180v160Zm440 0h160v-160H620v160Z\"/>\n",
              "  </svg>\n",
              "    </button>\n",
              "\n",
              "  <style>\n",
              "    .colab-df-container {\n",
              "      display:flex;\n",
              "      gap: 12px;\n",
              "    }\n",
              "\n",
              "    .colab-df-convert {\n",
              "      background-color: #E8F0FE;\n",
              "      border: none;\n",
              "      border-radius: 50%;\n",
              "      cursor: pointer;\n",
              "      display: none;\n",
              "      fill: #1967D2;\n",
              "      height: 32px;\n",
              "      padding: 0 0 0 0;\n",
              "      width: 32px;\n",
              "    }\n",
              "\n",
              "    .colab-df-convert:hover {\n",
              "      background-color: #E2EBFA;\n",
              "      box-shadow: 0px 1px 2px rgba(60, 64, 67, 0.3), 0px 1px 3px 1px rgba(60, 64, 67, 0.15);\n",
              "      fill: #174EA6;\n",
              "    }\n",
              "\n",
              "    .colab-df-buttons div {\n",
              "      margin-bottom: 4px;\n",
              "    }\n",
              "\n",
              "    [theme=dark] .colab-df-convert {\n",
              "      background-color: #3B4455;\n",
              "      fill: #D2E3FC;\n",
              "    }\n",
              "\n",
              "    [theme=dark] .colab-df-convert:hover {\n",
              "      background-color: #434B5C;\n",
              "      box-shadow: 0px 1px 3px 1px rgba(0, 0, 0, 0.15);\n",
              "      filter: drop-shadow(0px 1px 2px rgba(0, 0, 0, 0.3));\n",
              "      fill: #FFFFFF;\n",
              "    }\n",
              "  </style>\n",
              "\n",
              "    <script>\n",
              "      const buttonEl =\n",
              "        document.querySelector('#df-35c053cb-20a8-4b89-9ff6-7a4ae7b6be13 button.colab-df-convert');\n",
              "      buttonEl.style.display =\n",
              "        google.colab.kernel.accessAllowed ? 'block' : 'none';\n",
              "\n",
              "      async function convertToInteractive(key) {\n",
              "        const element = document.querySelector('#df-35c053cb-20a8-4b89-9ff6-7a4ae7b6be13');\n",
              "        const dataTable =\n",
              "          await google.colab.kernel.invokeFunction('convertToInteractive',\n",
              "                                                    [key], {});\n",
              "        if (!dataTable) return;\n",
              "\n",
              "        const docLinkHtml = 'Like what you see? Visit the ' +\n",
              "          '<a target=\"_blank\" href=https://colab.research.google.com/notebooks/data_table.ipynb>data table notebook</a>'\n",
              "          + ' to learn more about interactive tables.';\n",
              "        element.innerHTML = '';\n",
              "        dataTable['output_type'] = 'display_data';\n",
              "        await google.colab.output.renderOutput(dataTable, element);\n",
              "        const docLink = document.createElement('div');\n",
              "        docLink.innerHTML = docLinkHtml;\n",
              "        element.appendChild(docLink);\n",
              "      }\n",
              "    </script>\n",
              "  </div>\n",
              "\n",
              "\n",
              "<div id=\"df-5ac983cc-398b-4a8b-b5a0-1ff5f3a39c3b\">\n",
              "  <button class=\"colab-df-quickchart\" onclick=\"quickchart('df-5ac983cc-398b-4a8b-b5a0-1ff5f3a39c3b')\"\n",
              "            title=\"Suggest charts.\"\n",
              "            style=\"display:none;\">\n",
              "\n",
              "<svg xmlns=\"http://www.w3.org/2000/svg\" height=\"24px\"viewBox=\"0 0 24 24\"\n",
              "     width=\"24px\">\n",
              "    <g>\n",
              "        <path d=\"M19 3H5c-1.1 0-2 .9-2 2v14c0 1.1.9 2 2 2h14c1.1 0 2-.9 2-2V5c0-1.1-.9-2-2-2zM9 17H7v-7h2v7zm4 0h-2V7h2v10zm4 0h-2v-4h2v4z\"/>\n",
              "    </g>\n",
              "</svg>\n",
              "  </button>\n",
              "\n",
              "<style>\n",
              "  .colab-df-quickchart {\n",
              "      --bg-color: #E8F0FE;\n",
              "      --fill-color: #1967D2;\n",
              "      --hover-bg-color: #E2EBFA;\n",
              "      --hover-fill-color: #174EA6;\n",
              "      --disabled-fill-color: #AAA;\n",
              "      --disabled-bg-color: #DDD;\n",
              "  }\n",
              "\n",
              "  [theme=dark] .colab-df-quickchart {\n",
              "      --bg-color: #3B4455;\n",
              "      --fill-color: #D2E3FC;\n",
              "      --hover-bg-color: #434B5C;\n",
              "      --hover-fill-color: #FFFFFF;\n",
              "      --disabled-bg-color: #3B4455;\n",
              "      --disabled-fill-color: #666;\n",
              "  }\n",
              "\n",
              "  .colab-df-quickchart {\n",
              "    background-color: var(--bg-color);\n",
              "    border: none;\n",
              "    border-radius: 50%;\n",
              "    cursor: pointer;\n",
              "    display: none;\n",
              "    fill: var(--fill-color);\n",
              "    height: 32px;\n",
              "    padding: 0;\n",
              "    width: 32px;\n",
              "  }\n",
              "\n",
              "  .colab-df-quickchart:hover {\n",
              "    background-color: var(--hover-bg-color);\n",
              "    box-shadow: 0 1px 2px rgba(60, 64, 67, 0.3), 0 1px 3px 1px rgba(60, 64, 67, 0.15);\n",
              "    fill: var(--button-hover-fill-color);\n",
              "  }\n",
              "\n",
              "  .colab-df-quickchart-complete:disabled,\n",
              "  .colab-df-quickchart-complete:disabled:hover {\n",
              "    background-color: var(--disabled-bg-color);\n",
              "    fill: var(--disabled-fill-color);\n",
              "    box-shadow: none;\n",
              "  }\n",
              "\n",
              "  .colab-df-spinner {\n",
              "    border: 2px solid var(--fill-color);\n",
              "    border-color: transparent;\n",
              "    border-bottom-color: var(--fill-color);\n",
              "    animation:\n",
              "      spin 1s steps(1) infinite;\n",
              "  }\n",
              "\n",
              "  @keyframes spin {\n",
              "    0% {\n",
              "      border-color: transparent;\n",
              "      border-bottom-color: var(--fill-color);\n",
              "      border-left-color: var(--fill-color);\n",
              "    }\n",
              "    20% {\n",
              "      border-color: transparent;\n",
              "      border-left-color: var(--fill-color);\n",
              "      border-top-color: var(--fill-color);\n",
              "    }\n",
              "    30% {\n",
              "      border-color: transparent;\n",
              "      border-left-color: var(--fill-color);\n",
              "      border-top-color: var(--fill-color);\n",
              "      border-right-color: var(--fill-color);\n",
              "    }\n",
              "    40% {\n",
              "      border-color: transparent;\n",
              "      border-right-color: var(--fill-color);\n",
              "      border-top-color: var(--fill-color);\n",
              "    }\n",
              "    60% {\n",
              "      border-color: transparent;\n",
              "      border-right-color: var(--fill-color);\n",
              "    }\n",
              "    80% {\n",
              "      border-color: transparent;\n",
              "      border-right-color: var(--fill-color);\n",
              "      border-bottom-color: var(--fill-color);\n",
              "    }\n",
              "    90% {\n",
              "      border-color: transparent;\n",
              "      border-bottom-color: var(--fill-color);\n",
              "    }\n",
              "  }\n",
              "</style>\n",
              "\n",
              "  <script>\n",
              "    async function quickchart(key) {\n",
              "      const quickchartButtonEl =\n",
              "        document.querySelector('#' + key + ' button');\n",
              "      quickchartButtonEl.disabled = true;  // To prevent multiple clicks.\n",
              "      quickchartButtonEl.classList.add('colab-df-spinner');\n",
              "      try {\n",
              "        const charts = await google.colab.kernel.invokeFunction(\n",
              "            'suggestCharts', [key], {});\n",
              "      } catch (error) {\n",
              "        console.error('Error during call to suggestCharts:', error);\n",
              "      }\n",
              "      quickchartButtonEl.classList.remove('colab-df-spinner');\n",
              "      quickchartButtonEl.classList.add('colab-df-quickchart-complete');\n",
              "    }\n",
              "    (() => {\n",
              "      let quickchartButtonEl =\n",
              "        document.querySelector('#df-5ac983cc-398b-4a8b-b5a0-1ff5f3a39c3b button');\n",
              "      quickchartButtonEl.style.display =\n",
              "        google.colab.kernel.accessAllowed ? 'block' : 'none';\n",
              "    })();\n",
              "  </script>\n",
              "</div>\n",
              "    </div>\n",
              "  </div>\n"
            ]
          },
          "metadata": {},
          "execution_count": 133
        }
      ]
    },
    {
      "cell_type": "code",
      "source": [
        "# histogram of creatinine by sex\n",
        "p1 = sns.histplot(x=creatinine, data = dataset, hue = 'Sex1')\n",
        "p1"
      ],
      "metadata": {
        "colab": {
          "base_uri": "https://localhost:8080/",
          "height": 467
        },
        "id": "vhp-WLUf-jEE",
        "outputId": "ee688474-a84e-47a1-9e13-33228f799483"
      },
      "execution_count": null,
      "outputs": [
        {
          "output_type": "execute_result",
          "data": {
            "text/plain": [
              "<Axes: xlabel='CREA', ylabel='Count'>"
            ]
          },
          "metadata": {},
          "execution_count": 134
        },
        {
          "output_type": "display_data",
          "data": {
            "text/plain": [
              "<Figure size 640x480 with 1 Axes>"
            ],
            "image/png": "[encoded data removed]"
          },
          "metadata": {}
        }
      ]
    },
    {
      "cell_type": "code",
      "source": [
        "# histogram of creatinine by sex\n",
        "\n",
        "g = sns.FacetGrid(dataset, col=\"Sex1\")\n",
        "g.map(sns.histplot, \"Age\")"
      ],
      "metadata": {
        "id": "fQpiVrsbDrXF",
        "colab": {
          "base_uri": "https://localhost:8080/",
          "height": 325
        },
        "outputId": "0f16561f-0519-4724-f40a-2bc9ef4473f1"
      },
      "execution_count": null,
      "outputs": [
        {
          "output_type": "execute_result",
          "data": {
            "text/plain": [
              "<seaborn.axisgrid.FacetGrid at 0x7f0f96526ad0>"
            ]
          },
          "metadata": {},
          "execution_count": 135
        },
        {
          "output_type": "display_data",
          "data": {
            "text/plain": [
              "<Figure size 600x300 with 2 Axes>"
            ],
            "image/png": "[encoded data removed]"
          },
          "metadata": {}
        }
      ]
    },
    {
      "cell_type": "code",
      "source": [
        "# reproduce the results for all the lab test result variables"
      ],
      "metadata": {
        "id": "qDZbXkxwdTSY"
      },
      "execution_count": null,
      "outputs": []
    },
    {
      "cell_type": "markdown",
      "source": [
        "### CATEGORY\n",
        "\n",
        "* count individuals with and without the virus\n",
        "* plot the proportions of individuals with and without the virus\n",
        "* plot the same distinguishing between the initial 5 categories related to the virus"
      ],
      "metadata": {
        "id": "r-HC68FbGgxy"
      }
    },
    {
      "cell_type": "code",
      "source": [
        "# summarize category variable\n",
        "print(\"Count individuals with/without virus \\n\", dataset[\"Disease\"].value_counts())\n",
        "\n",
        "# plot the proportions of individuals with and without the virus\n",
        "pie_df = dataset.groupby(['Disease'])[['Sex1']].count().reset_index()\n",
        "pie_df['Sex1'].plot.pie(autopct='%1.1f%%')\n",
        "\n",
        "# plot the same distinguishing between the initial 5 categories related to the virus\n",
        "# ... write your code here"
      ],
      "metadata": {
        "id": "JRhAemsBGjy8",
        "colab": {
          "base_uri": "https://localhost:8080/",
          "height": 497
        },
        "outputId": "28e80551-6882-4930-87d6-a689c1112e91"
      },
      "execution_count": null,
      "outputs": [
        {
          "output_type": "stream",
          "name": "stdout",
          "text": [
            "Count individuals with/without virus \n",
            " 0    533\n",
            "1     56\n",
            "Name: Disease, dtype: int64\n"
          ]
        },
        {
          "output_type": "execute_result",
          "data": {
            "text/plain": [
              "<Axes: ylabel='Sex1'>"
            ]
          },
          "metadata": {},
          "execution_count": 137
        },
        {
          "output_type": "display_data",
          "data": {
            "text/plain": [
              "<Figure size 640x480 with 1 Axes>"
            ],
            "image/png": "[encoded data removed]"
          },
          "metadata": {}
        }
      ]
    },
    {
      "cell_type": "markdown",
      "source": [
        "Looking at the counts for each classes, class 0 (Blood donor) has the highest count followed by class 4 (Cirrhosis), class 2 (Hepatitis) and class 3 (Fibrosis). Class 1 (Suspect blood donor) is the class with the least count."
      ],
      "metadata": {
        "id": "YYZn5tNuGllO"
      }
    },
    {
      "cell_type": "markdown",
      "source": [
        "## Step 4: Relationship between variables\n",
        "* produce a correlation matrix and plot between lab test results\n",
        "* use a Chi squared test to investigate independence between presence of the virus and age groups\n",
        "* use a Chi squared test to investigate independence between presence of the virus and sex\n",
        "* use t-test and plots to investigate independence between lab test results and sex\n",
        "* use t-test and plots to investigate independence between lab test results and presence of virus\n",
        "\n",
        "**Do you observe any 'strong' relation between lab test results looking at the correlation plot and the correlation matrix? What is the null hipothesis of the Chi square test? What do you conclude from the output? Do you observe any dependence between lab test results and sex? What would you expect to observe if they are pairwise independent? How about between lab test results and presence of virus **"
      ],
      "metadata": {
        "id": "Pgmqan_L5H1C"
      }
    },
    {
      "cell_type": "code",
      "source": [
        "# correlation matrix and plot between lab test results\n",
        "\n",
        "corr_df = pd.DataFrame(dataset, columns=[creatinine, 'BIL'])\n",
        "corr_matrix = corr_df.corr()\n",
        "print(\"Correlation matrix creatinine VS Bilirubin \\n\",  corr_matrix)\n",
        "\n",
        "sns.pairplot(corr_df)"
      ],
      "metadata": {
        "colab": {
          "base_uri": "https://localhost:8080/",
          "height": 604
        },
        "id": "vV7AAnCuwd0i",
        "outputId": "df32fbc3-dd43-4d80-a3a5-cd2e8b5e05ed"
      },
      "execution_count": null,
      "outputs": [
        {
          "output_type": "stream",
          "name": "stdout",
          "text": [
            "Correlation matrix creatinine VS Bilirubin \n",
            "          CREA      BIL\n",
            "CREA  1.00000  0.01991\n",
            "BIL   0.01991  1.00000\n"
          ]
        },
        {
          "output_type": "execute_result",
          "data": {
            "text/plain": [
              "<seaborn.axisgrid.PairGrid at 0x7f0f992bf970>"
            ]
          },
          "metadata": {},
          "execution_count": 138
        },
        {
          "output_type": "display_data",
          "data": {
            "text/plain": [
              "<Figure size 500x500 with 6 Axes>"
            ],
            "image/png": "[encoded data removed]"
          },
          "metadata": {}
        }
      ]
    },
    {
      "cell_type": "code",
      "source": [
        "## Chi square test\n",
        "\n",
        "VirusAge_corr = pd.crosstab(dataset[\"Disease\"], dataset[\"age_group\"])\n",
        "print(\"Crosstabulation table Virus VS Age group \\n\", VirusAge_corr)\n",
        "print(\"Chi square test p-value\", round(chi2_contingency(VirusAge_corr)[1], 4))\n",
        "\n",
        "VirusSex_corr = pd.crosstab(dataset[\"Disease\"], dataset[\"Sex1\"])\n",
        "print(\"Crosstabulation table Virus VS Sex \\n\", VirusSex_corr)\n",
        "print(\"Chi square test p-value\", round(chi2_contingency(VirusSex_corr)[1], 4))"
      ],
      "metadata": {
        "colab": {
          "base_uri": "https://localhost:8080/"
        },
        "id": "oVk1Md5aev7x",
        "outputId": "28247af1-0124-4964-bc28-1b323684af14"
      },
      "execution_count": null,
      "outputs": [
        {
          "output_type": "stream",
          "name": "stdout",
          "text": [
            "Crosstabulation table Virus VS Age group \n",
            " age_group  30-39  40-49  50-59  60-69  <30  >69\n",
            "Disease                                        \n",
            "0            139    180    150     55    0    9\n",
            "1             10     13     21      7    4    1\n",
            "Chi square test p-value 0.0\n",
            "Crosstabulation table Virus VS Sex \n",
            " Sex1       0    1\n",
            "Disease          \n",
            "0        323  210\n",
            "1         40   16\n",
            "Chi square test p-value 0.1497\n"
          ]
        }
      ]
    },
    {
      "cell_type": "code",
      "source": [
        "# explore relationship between lab test results and sex (use the variable CREA without outliers)\n",
        "\n",
        "sns.boxplot(x=\"Sex1\", y=creatinine, data=df_crea).set(\n",
        "            xlabel='Sex',\n",
        "            ylabel='Creatinine')\n",
        "\n",
        "m_crea = dataset[dataset['Sex1'] == 0][creatinine]\n",
        "f_crea = dataset[dataset['Sex1'] == 1][creatinine]\n",
        "print(\"T-test sex and creatinine \\n\", scipy.stats.ttest_ind(\n",
        "    m_crea, f_crea, equal_var = False\n",
        "))\n",
        "\n",
        "# What can you observe from the graph and the test? Is sex independent of the measurement of creatinine level?"
      ],
      "metadata": {
        "colab": {
          "base_uri": "https://localhost:8080/",
          "height": 485
        },
        "id": "DVb0DK7d0wje",
        "outputId": "92529de0-e584-4349-804b-a15c75a8fd9e"
      },
      "execution_count": null,
      "outputs": [
        {
          "output_type": "stream",
          "name": "stdout",
          "text": [
            "T-test sex and creatinine \n",
            " TtestResult(statistic=4.4414625254341855, pvalue=1.0733802628857258e-05, df=570.3506927862985)\n"
          ]
        },
        {
          "output_type": "display_data",
          "data": {
            "text/plain": [
              "<Figure size 640x480 with 1 Axes>"
            ],
            "image/png": "[encoded data removed]"
          },
          "metadata": {}
        }
      ]
    },
    {
      "cell_type": "code",
      "source": [
        "# explore relationship between lab test results and onset of virus (use the variable CREA without outliers)\n",
        "\n",
        "sns.boxplot(x=\"Disease\", y=creatinine, data=df_crea).set(\n",
        "            xlabel='Onset of Virus',\n",
        "            ylabel='Creatinine')\n",
        "\n",
        "N_crea = dataset[dataset['Disease'] == 0][creatinine]\n",
        "Y_crea = dataset[dataset['Disease'] == 1][creatinine]\n",
        "print(\"T-test virus and creatinine \\n\", scipy.stats.ttest_ind(\n",
        "    N_crea, Y_crea, equal_var = False\n",
        "))\n",
        "\n",
        "# What can you observe from the graph and the test? Is the onset of the virus independent of the measurement of creatinine level?"
      ],
      "metadata": {
        "colab": {
          "base_uri": "https://localhost:8080/",
          "height": 485
        },
        "id": "__c743jhj-Bd",
        "outputId": "f4179ae9-64d8-483b-d499-57fc417c1091"
      },
      "execution_count": null,
      "outputs": [
        {
          "output_type": "stream",
          "name": "stdout",
          "text": [
            "T-test virus and creatinine \n",
            " TtestResult(statistic=-1.3797048038541422, pvalue=0.173249651052081, df=55.114349326662825)\n"
          ]
        },
        {
          "output_type": "display_data",
          "data": {
            "text/plain": [
              "<Figure size 640x480 with 1 Axes>"
            ],
            "image/png": "[encoded data removed]"
          },
          "metadata": {}
        }
      ]
    },
    {
      "cell_type": "code",
      "source": [
        "# reproduce the results for all the lab test result variables"
      ],
      "metadata": {
        "id": "bYBEwCm5itCX"
      },
      "execution_count": null,
      "outputs": []
    },
    {
      "cell_type": "markdown",
      "source": [
        "## Step 4: Linear regression (Predicting CHOL value using other variables)\n",
        "* Scatterplot\n",
        "* Build the model\n",
        "* Check the assumption: Linear, Homoscedasticity, Independently normally distributed residuals\n",
        "* Interpret the result: correlation coefficient, R^2"
      ],
      "metadata": {
        "id": "Zu_KIQc2iei0"
      }
    },
    {
      "cell_type": "code",
      "source": [
        "x = dataset[\"CHOL\"].values.reshape(-1,1)\n",
        "y = dataset[\"ALB\"].values.reshape(-1,1)\n",
        "s_reg = LinearRegression()\n",
        "s_reg.fit(x,y)\n",
        "y_pred = s_reg.predict(dataset[\"CHOL\"].values.reshape(-1,1))\n",
        "plt.scatter(x,y)\n",
        "plt.plot(x,y_pred)\n",
        "plt.xlabel(\"CHOL\")\n",
        "plt.ylabel(\"ALB\")\n",
        "print(\"The R^2 score is:\", r2_score(y, y_pred))"
      ],
      "metadata": {
        "colab": {
          "base_uri": "https://localhost:8080/",
          "height": 467
        },
        "id": "X_icwgYeiddT",
        "outputId": "9c5fe45c-3dee-4a6a-ab9c-07b69f3c4879"
      },
      "execution_count": null,
      "outputs": [
        {
          "output_type": "stream",
          "name": "stdout",
          "text": [
            "The R^2 score is: 0.044276524994696254\n"
          ]
        },
        {
          "output_type": "display_data",
          "data": {
            "text/plain": [
              "<Figure size 640x480 with 1 Axes>"
            ],
            "image/png": "[encoded data removed]"
          },
          "metadata": {}
        }
      ]
    },
    {
      "cell_type": "code",
      "source": [
        "# Check the distribution of residuals\n",
        "residuals = y_pred-y\n",
        "plt.hist(residuals, bins=50)\n",
        "p=plt.title(\"Normality of error terms/residuals\")"
      ],
      "metadata": {
        "colab": {
          "base_uri": "https://localhost:8080/",
          "height": 452
        },
        "id": "OIlddN28omYe",
        "outputId": "038c8bc4-6f5d-420f-ad66-5f15a7c1af13"
      },
      "execution_count": null,
      "outputs": [
        {
          "output_type": "display_data",
          "data": {
            "text/plain": [
              "<Figure size 640x480 with 1 Axes>"
            ],
            "image/png": "[encoded data removed]"
          },
          "metadata": {}
        }
      ]
    },
    {
      "cell_type": "code",
      "source": [
        "# Check the homoscedasticity\n",
        "plt.scatter(y_pred,residuals)\n",
        "plt.xlabel('y_pred')\n",
        "plt.ylabel(\"Residuals\")\n",
        "plt.ylim(-15,15)\n",
        "xx= [0.1 * i + 38 for i in range(70)]\n",
        "plt.plot(xx,[0 for i in range(70)])\n",
        "p=plt.title(\"Residuals vs fitted values plot for homoscedasticity check\")"
      ],
      "metadata": {
        "colab": {
          "base_uri": "https://localhost:8080/",
          "height": 472
        },
        "id": "l2ryEbMeovxB",
        "outputId": "fa0732d0-1f1f-42da-8d04-68ba380d5a39"
      },
      "execution_count": null,
      "outputs": [
        {
          "output_type": "display_data",
          "data": {
            "text/plain": [
              "<Figure size 640x480 with 1 Axes>"
            ],
            "image/png": "[encoded data removed]"
          },
          "metadata": {}
        }
      ]
    },
    {
      "cell_type": "code",
      "source": [
        "# we could use another module to directly output all evaluation metrics\n",
        "x_ = sm.add_constant(x)\n",
        "est = sm.OLS(y,x_)\n",
        "est2 = est.fit()\n",
        "print(est2.summary())"
      ],
      "metadata": {
        "colab": {
          "base_uri": "https://localhost:8080/"
        },
        "id": "HyjmZotNidn4",
        "outputId": "aec6dad6-8028-47bc-e183-06e644984238"
      },
      "execution_count": null,
      "outputs": [
        {
          "output_type": "stream",
          "name": "stdout",
          "text": [
            "                            OLS Regression Results                            \n",
            "==============================================================================\n",
            "Dep. Variable:                      y   R-squared:                       0.044\n",
            "Model:                            OLS   Adj. R-squared:                  0.043\n",
            "Method:                 Least Squares   F-statistic:                     27.19\n",
            "Date:                Thu, 19 Oct 2023   Prob (F-statistic):           2.55e-07\n",
            "Time:                        13:27:14   Log-Likelihood:                -1853.4\n",
            "No. Observations:                 589   AIC:                             3711.\n",
            "Df Residuals:                     587   BIC:                             3720.\n",
            "Df Model:                           1                                         \n",
            "Covariance Type:            nonrobust                                         \n",
            "==============================================================================\n",
            "                 coef    std err          t      P>|t|      [0.025      0.975]\n",
            "------------------------------------------------------------------------------\n",
            "const         35.8345      1.134     31.592      0.000      33.607      38.062\n",
            "x1             1.0739      0.206      5.215      0.000       0.669       1.478\n",
            "==============================================================================\n",
            "Omnibus:                       80.893   Durbin-Watson:                   1.658\n",
            "Prob(Omnibus):                  0.000   Jarque-Bera (JB):              748.318\n",
            "Skew:                           0.171   Prob(JB):                    3.20e-163\n",
            "Kurtosis:                       8.511   Cond. No.                         27.7\n",
            "==============================================================================\n",
            "\n",
            "Notes:\n",
            "[1] Standard Errors assume that the covariance matrix of the errors is correctly specified.\n"
          ]
        }
      ]
    },
    {
      "cell_type": "markdown",
      "source": [
        "### What you try:\n",
        "* Use other variable to predict CHOL and check the assumption\n",
        "* Interpretate the result\n",
        "* Try to add more variables to the model"
      ],
      "metadata": {
        "id": "1acTIOcmlZSQ"
      }
    },
    {
      "cell_type": "code",
      "source": [
        "# ... write your code here"
      ],
      "metadata": {
        "id": "90sCed3rieAB"
      },
      "execution_count": null,
      "outputs": []
    },
    {
      "cell_type": "markdown",
      "source": [
        "## Step 5: Logistic Regression (Classify the samples into Blood donors and Hepatitis C disease)\n",
        "* Scatterplot\n",
        "* Build the univariate logistic regression\n",
        "* Intepret the results: beta coefficient, correlation coefficient, R^2\n",
        "* Check the assumption: Linear, Homoscedasticity, independently normally distributed residuals"
      ],
      "metadata": {
        "id": "zEhWHp2EL7fe"
      }
    },
    {
      "cell_type": "code",
      "source": [
        "log_reg = LogisticRegression(solver = 'lbfgs', max_iter=1000)\n",
        "y = dataset[\"Disease\"].values.reshape(-1,1)\n",
        "x = dataset[\"ALB\"].values.reshape(-1,1)\n",
        "# x = dataset.drop(columns = [\"Disease\",\"age_group\"])\n",
        "log_reg.fit(x, y)\n",
        "y_pred_lg = log_reg.predict(x)"
      ],
      "metadata": {
        "id": "vsOcTcOvPuJ6",
        "colab": {
          "base_uri": "https://localhost:8080/"
        },
        "outputId": "6da196df-421c-4c36-d708-22e4eddae5fa"
      },
      "execution_count": null,
      "outputs": [
        {
          "output_type": "stream",
          "name": "stderr",
          "text": [
            "/usr/local/lib/python3.10/dist-packages/sklearn/utils/validation.py:1143: DataConversionWarning: A column-vector y was passed when a 1d array was expected. Please change the shape of y to (n_samples, ), for example using ravel().\n",
            "  y = column_or_1d(y, warn=True)\n"
          ]
        }
      ]
    },
    {
      "cell_type": "code",
      "source": [
        "# ... write your comments here"
      ],
      "metadata": {
        "id": "C0nm-b1sUcrW"
      },
      "execution_count": null,
      "outputs": []
    },
    {
      "cell_type": "code",
      "source": [
        "# plot the probability\n",
        "x_r = max(x)[0]-min(x)[0]\n",
        "x_range = [i+min(x)[0] for i in range(x_r)]\n",
        "pro_y = [ log_reg.predict_proba([[i]])[:,1] for i in x_range]\n",
        "plt.scatter(x, y)\n",
        "plt.plot(x_range, pro_y)"
      ],
      "metadata": {
        "colab": {
          "base_uri": "https://localhost:8080/",
          "height": 254
        },
        "id": "aL_GOtvBRVNL",
        "outputId": "20e6711f-ce74-47ae-af1a-5a0c5986a73d"
      },
      "execution_count": null,
      "outputs": [
        {
          "output_type": "error",
          "ename": "TypeError",
          "evalue": "ignored",
          "traceback": [
            "\u001b[0;31m---------------------------------------------------------------------------\u001b[0m",
            "\u001b[0;31mTypeError\u001b[0m                                 Traceback (most recent call last)",
            "\u001b[0;32m<ipython-input-150-a8a5f590d0c1>\u001b[0m in \u001b[0;36m<cell line: 3>\u001b[0;34m()\u001b[0m\n\u001b[1;32m      1\u001b[0m \u001b[0;31m# plot the probability\u001b[0m\u001b[0;34m\u001b[0m\u001b[0;34m\u001b[0m\u001b[0m\n\u001b[1;32m      2\u001b[0m \u001b[0mx_r\u001b[0m \u001b[0;34m=\u001b[0m \u001b[0mmax\u001b[0m\u001b[0;34m(\u001b[0m\u001b[0mx\u001b[0m\u001b[0;34m)\u001b[0m\u001b[0;34m[\u001b[0m\u001b[0;36m0\u001b[0m\u001b[0;34m]\u001b[0m\u001b[0;34m-\u001b[0m\u001b[0mmin\u001b[0m\u001b[0;34m(\u001b[0m\u001b[0mx\u001b[0m\u001b[0;34m)\u001b[0m\u001b[0;34m[\u001b[0m\u001b[0;36m0\u001b[0m\u001b[0;34m]\u001b[0m\u001b[0;34m\u001b[0m\u001b[0;34m\u001b[0m\u001b[0m\n\u001b[0;32m----> 3\u001b[0;31m \u001b[0mx_range\u001b[0m \u001b[0;34m=\u001b[0m \u001b[0;34m[\u001b[0m\u001b[0mi\u001b[0m\u001b[0;34m+\u001b[0m\u001b[0mmin\u001b[0m\u001b[0;34m(\u001b[0m\u001b[0mx\u001b[0m\u001b[0;34m)\u001b[0m\u001b[0;34m[\u001b[0m\u001b[0;36m0\u001b[0m\u001b[0;34m]\u001b[0m \u001b[0;32mfor\u001b[0m \u001b[0mi\u001b[0m \u001b[0;32min\u001b[0m \u001b[0mrange\u001b[0m\u001b[0;34m(\u001b[0m\u001b[0mx_r\u001b[0m\u001b[0;34m)\u001b[0m\u001b[0;34m]\u001b[0m\u001b[0;34m\u001b[0m\u001b[0;34m\u001b[0m\u001b[0m\n\u001b[0m\u001b[1;32m      4\u001b[0m \u001b[0mpro_y\u001b[0m \u001b[0;34m=\u001b[0m \u001b[0;34m[\u001b[0m \u001b[0mlog_reg\u001b[0m\u001b[0;34m.\u001b[0m\u001b[0mpredict_proba\u001b[0m\u001b[0;34m(\u001b[0m\u001b[0;34m[\u001b[0m\u001b[0;34m[\u001b[0m\u001b[0mi\u001b[0m\u001b[0;34m]\u001b[0m\u001b[0;34m]\u001b[0m\u001b[0;34m)\u001b[0m\u001b[0;34m[\u001b[0m\u001b[0;34m:\u001b[0m\u001b[0;34m,\u001b[0m\u001b[0;36m1\u001b[0m\u001b[0;34m]\u001b[0m \u001b[0;32mfor\u001b[0m \u001b[0mi\u001b[0m \u001b[0;32min\u001b[0m \u001b[0mx_range\u001b[0m\u001b[0;34m]\u001b[0m\u001b[0;34m\u001b[0m\u001b[0;34m\u001b[0m\u001b[0m\n\u001b[1;32m      5\u001b[0m \u001b[0mplt\u001b[0m\u001b[0;34m.\u001b[0m\u001b[0mscatter\u001b[0m\u001b[0;34m(\u001b[0m\u001b[0mx\u001b[0m\u001b[0;34m,\u001b[0m \u001b[0my\u001b[0m\u001b[0;34m)\u001b[0m\u001b[0;34m\u001b[0m\u001b[0;34m\u001b[0m\u001b[0m\n",
            "\u001b[0;31mTypeError\u001b[0m: 'numpy.float64' object cannot be interpreted as an integer"
          ]
        }
      ]
    },
    {
      "cell_type": "code",
      "source": [
        "# You can also use the function in seaborn to generate the plot\n",
        "sns.regplot(x='Age', y='Disease', data=dataset, logistic=True)"
      ],
      "metadata": {
        "id": "rG82X42xSoC5"
      },
      "execution_count": null,
      "outputs": []
    },
    {
      "cell_type": "code",
      "source": [
        "print('Training-set accuracy score: {0:0.4f}'. format(accuracy_score(y, y_pred_lg)))"
      ],
      "metadata": {
        "id": "dS4BIOxIPuVZ"
      },
      "execution_count": null,
      "outputs": []
    },
    {
      "cell_type": "code",
      "source": [
        "# Again, we could also use the statsmodels package to build the model and generate the results\n",
        "lg_m = sm.GLM(y, sm.add_constant(x), family = sm.families.Binomial())\n",
        "results = lg_m.fit()\n",
        "results.summary()"
      ],
      "metadata": {
        "id": "4pkZnMljsis3"
      },
      "execution_count": null,
      "outputs": []
    },
    {
      "cell_type": "code",
      "source": [],
      "metadata": {
        "id": "8i6inA5T79GC"
      },
      "execution_count": null,
      "outputs": []
    },
    {
      "cell_type": "markdown",
      "source": [
        "### What you can try:\n",
        "* Try to include more variables, build the multivarate logistic regression and see how accuracy score change.\n",
        "* Intepretate the result and check the assumption: Does the log odd show a linear relationship with all other variables?"
      ],
      "metadata": {
        "id": "xFw7ZtcOrB4W"
      }
    },
    {
      "cell_type": "code",
      "source": [
        "# ... write your code here"
      ],
      "metadata": {
        "id": "hlay1-G-Pugm"
      },
      "execution_count": null,
      "outputs": []
    },
    {
      "cell_type": "markdown",
      "source": [
        "## Extra: Model Selection - Which variables should be in a model?\n",
        "You have seen up to this point that there can be multiple model specifications to predict the onset of hepatitis disease. Model selection is the process of selecting a model from a set of candidate models. </br>\n",
        "\n",
        "There exists multiple measures to perform model selection, here we will explore a probabilistic approach. It takes into account the balance between goodness of fit (how well a candidate model has performed in terms of log-likelihood) and complexity of the model (number of parameters in the model). </br>\n",
        "\n",
        "Within the probabilistic approach we can identify two main measures:\n",
        "* Akaike Information Criterion (AIC)\n",
        "* Bayesian Information Criterion (BIC) </br>\n",
        "\n",
        "They are both relative measures, these values shall be compared across models with an increasing number of parameters, thus judging whether a larger model should be preferred over a smaller one. </br>\n",
        "\n",
        "The smaller AIC/BIC the better the model. </br>\n",
        "For more info you can read <a href='https://machinelearningabc.medium.com/model-selection-with-aic-bic-10ac9dac4c5a'>here</a>\n"
      ],
      "metadata": {
        "id": "WSGOeB3qQF79"
      }
    },
    {
      "cell_type": "code",
      "source": [
        "# if you remember the regression output tavle included a value for the AIC/BIC"
      ],
      "metadata": {
        "id": "Fdy0FKEJ5tsC"
      },
      "execution_count": null,
      "outputs": []
    }
  ]
}