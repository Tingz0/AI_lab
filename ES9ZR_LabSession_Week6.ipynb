{
  "cells": [
    {
      "cell_type": "markdown",
      "metadata": {
        "id": "e2124b42"
      },
      "source": [
        "\n",
        "# ES9ZR AI and Machine Learning for Diagnostics\n",
        "\n",
        "## Python Lecture/Lab 6: Neural Network Implementation and Training\n",
        "Welcome to the lab tutorial of week 6. This session is focused on solidifying your understanding of neural networks and the training process using a hands-on approach. In this lab, we will first revisit data importing/preprocessing methods and then delve into the practical aspects of defining, training, and evaluating a small neural network with the PyTorch library. I will first do a demo with Iris dataset. Then, you could try to build a test fuction to check your model performance. If there is still time, you could also practice this process with the diabetes dataset we used in the lab 4 (https://www.kaggle.com/datasets/mathchi/diabetes-data-set) to build your first NN!\n",
        "\n",
        "By the end of this Lab tutorial, you should be able to:\n",
        "\n",
        "1. Understand the structure and components of a basic neural network, and recognize the significance of proper data handling in the context of machine learning.\n",
        "\n",
        "2. Apply data preprocessing techniques to prepare a dataset for neural network training, ensuring that the data is shuffled and split into appropriate training, validation, and test sets.\n",
        "\n",
        "3. Implement and train a small neural network using PyTorch, understanding the forward pass, loss calculation, backpropagation, and the optimizer's role in updating network weights.\n",
        "\n",
        "4. Evaluate the performance of the trained model on validation and test datasets, and compare this process with previous labs."
      ]
    },
    {
      "cell_type": "code",
      "execution_count": 2,
      "metadata": {
        "colab": {
          "base_uri": "https://localhost:8080/"
        },
        "id": "L7eYMRzGiHpL",
        "outputId": "8613d703-78a1-43e1-9e07-a205fa5ff74a"
      },
      "outputs": [
        {
          "ename": "ModuleNotFoundError",
          "evalue": "No module named 'sklearn'",
          "output_type": "error",
          "traceback": [
            "\u001b[0;31m---------------------------------------------------------------------------\u001b[0m",
            "\u001b[0;31mModuleNotFoundError\u001b[0m                       Traceback (most recent call last)",
            "Cell \u001b[0;32mIn[2], line 10\u001b[0m\n\u001b[1;32m      8\u001b[0m \u001b[38;5;28;01mfrom\u001b[39;00m \u001b[38;5;21;01mtorch\u001b[39;00m \u001b[38;5;28;01mimport\u001b[39;00m nn\n\u001b[1;32m      9\u001b[0m \u001b[38;5;28;01mfrom\u001b[39;00m \u001b[38;5;21;01mtorch\u001b[39;00m\u001b[38;5;21;01m.\u001b[39;00m\u001b[38;5;21;01mutils\u001b[39;00m\u001b[38;5;21;01m.\u001b[39;00m\u001b[38;5;21;01mdata\u001b[39;00m \u001b[38;5;28;01mimport\u001b[39;00m DataLoader, random_split,TensorDataset\n\u001b[0;32m---> 10\u001b[0m \u001b[38;5;28;01mfrom\u001b[39;00m \u001b[38;5;21;01msklearn\u001b[39;00m\u001b[38;5;21;01m.\u001b[39;00m\u001b[38;5;21;01mdatasets\u001b[39;00m \u001b[38;5;28;01mimport\u001b[39;00m load_iris\n\u001b[1;32m     11\u001b[0m \u001b[38;5;28;01mfrom\u001b[39;00m \u001b[38;5;21;01msklearn\u001b[39;00m\u001b[38;5;21;01m.\u001b[39;00m\u001b[38;5;21;01mmodel_selection\u001b[39;00m \u001b[38;5;28;01mimport\u001b[39;00m train_test_split\n\u001b[1;32m     12\u001b[0m \u001b[38;5;28;01mfrom\u001b[39;00m \u001b[38;5;21;01msklearn\u001b[39;00m\u001b[38;5;21;01m.\u001b[39;00m\u001b[38;5;21;01mpreprocessing\u001b[39;00m \u001b[38;5;28;01mimport\u001b[39;00m StandardScaler\n",
            "\u001b[0;31mModuleNotFoundError\u001b[0m: No module named 'sklearn'"
          ]
        }
      ],
      "source": [
        "\n",
        "# Lab Practice: Iris Classification with a Small Neural Network\n",
        "# In this lab, you will learn how to preprocess data, split it into training, validation, and test sets,\n",
        "# and use PyTorch to train a small neural network for classifying the Iris dataset.\n",
        "\n",
        "#\n",
        "# Step 0: Import the necessary libraries\n",
        "import torch\n",
        "from torch import nn\n",
        "from torch.utils.data import DataLoader, random_split,TensorDataset\n",
        "from sklearn.datasets import load_iris\n",
        "from sklearn.model_selection import train_test_split\n",
        "from sklearn.preprocessing import StandardScaler\n",
        "import numpy as np\n",
        "import pandas as pd\n",
        "import matplotlib.pyplot as plt\n",
        "\n",
        "print('all libs imported')"
      ]
    },
    {
      "cell_type": "code",
      "execution_count": 3,
      "metadata": {
        "id": "6nuvdZUDrXNK"
      },
      "outputs": [
        {
          "ename": "NameError",
          "evalue": "name 'pd' is not defined",
          "output_type": "error",
          "traceback": [
            "\u001b[0;31m---------------------------------------------------------------------------\u001b[0m",
            "\u001b[0;31mNameError\u001b[0m                                 Traceback (most recent call last)",
            "Cell \u001b[0;32mIn[3], line 3\u001b[0m\n\u001b[1;32m      1\u001b[0m \u001b[38;5;66;03m# Step 1: Load the Iris dataset\u001b[39;00m\n\u001b[1;32m      2\u001b[0m IrisLink \u001b[38;5;241m=\u001b[39m \u001b[38;5;124m\"\u001b[39m\u001b[38;5;124mhttps://gist.githubusercontent.com/curran/a08a1080b88344b0c8a7/raw/0e7a9b0a5d22642a06d3d5b9bcbad9890c8ee534/iris.csv\u001b[39m\u001b[38;5;124m\"\u001b[39m\n\u001b[0;32m----> 3\u001b[0m IrisData \u001b[38;5;241m=\u001b[39m \u001b[43mpd\u001b[49m\u001b[38;5;241m.\u001b[39mread_csv(IrisLink)\n\u001b[1;32m      5\u001b[0m \u001b[38;5;66;03m### the string were replaced so that it is easier to be handle in the tensor\u001b[39;00m\n\u001b[1;32m      6\u001b[0m IrisData[\u001b[38;5;124m'\u001b[39m\u001b[38;5;124mspecies\u001b[39m\u001b[38;5;124m'\u001b[39m] \u001b[38;5;241m=\u001b[39m IrisData[\u001b[38;5;124m'\u001b[39m\u001b[38;5;124mspecies\u001b[39m\u001b[38;5;124m'\u001b[39m]\u001b[38;5;241m.\u001b[39mreplace(\u001b[38;5;124m'\u001b[39m\u001b[38;5;124msetosa\u001b[39m\u001b[38;5;124m'\u001b[39m,\u001b[38;5;241m0\u001b[39m)\n",
            "\u001b[0;31mNameError\u001b[0m: name 'pd' is not defined"
          ]
        }
      ],
      "source": [
        "\n",
        "# Step 1: Load the Iris dataset\n",
        "IrisLink = \"https://gist.githubusercontent.com/curran/a08a1080b88344b0c8a7/raw/0e7a9b0a5d22642a06d3d5b9bcbad9890c8ee534/iris.csv\"\n",
        "IrisData = pd.read_csv(IrisLink)\n",
        "\n",
        "### the string were replaced so that it is easier to be handle in the tensor\n",
        "IrisData['species'] = IrisData['species'].replace('setosa',0)\n",
        "IrisData['species'] = IrisData['species'].replace('versicolor',1)\n",
        "IrisData['species'] = IrisData['species'].replace('virginica',2)\n",
        "# print(IrisData÷.head)\n",
        "\n",
        "\n",
        "\n",
        "###### set the feature/independent value\n",
        "########### X is the 4 features: sepal length/width, petal length/width\n",
        "\n",
        "X = IrisData.iloc[:,0:4]\n",
        "# X = IrisData.drop('species',axis = 1)\n",
        "# print(X)\n",
        "# print(IrisData.columns)\n",
        "\n",
        "###### set the label/dependent value\n",
        "y = IrisData['species']\n",
        "# print(y)\n",
        "\n",
        "\n",
        "######### the below is another way to load the dataset\n",
        "# iris = load_iris()\n",
        "# print(type(iris))\n",
        "# X, y = iris.data, iris.target\n",
        "\n",
        "\n"
      ]
    },
    {
      "cell_type": "code",
      "execution_count": 3,
      "metadata": {
        "colab": {
          "base_uri": "https://localhost:8080/"
        },
        "id": "ABMup2xjk144",
        "outputId": "7813cbb8-ceec-43fa-b8b8-8f410ce7b1bb"
      },
      "outputs": [
        {
          "name": "stdout",
          "output_type": "stream",
          "text": [
            "this is the task 1\n"
          ]
        }
      ],
      "source": [
        "\n",
        "#### Task 1 can you print the first 5 rows of this iris dataset?\n",
        "### hint: use print() fuction we learn in the lab 1\n",
        "print(\"this is the task 1\")"
      ]
    },
    {
      "cell_type": "code",
      "execution_count": 4,
      "metadata": {
        "colab": {
          "base_uri": "https://localhost:8080/"
        },
        "id": "mVkMs9YsrZvJ",
        "outputId": "d3bc17c4-0853-4fdd-bde6-55de3be51008"
      },
      "outputs": [
        {
          "data": {
            "text/plain": [
              "<torch._C.Generator at 0x7c1fb6a1bef0>"
            ]
          },
          "execution_count": 4,
          "metadata": {},
          "output_type": "execute_result"
        }
      ],
      "source": [
        "\n",
        "# Step 2: Data Preprocessing\n",
        "\n",
        "########### Please be aware that we skip the data cleaning and feature selection! ##################\n",
        "\n",
        "\n",
        "# do you know why we need to scale the data? It would be good to recall what we learn in week 4\n",
        "scaler = StandardScaler()\n",
        "X_scaled = scaler.fit_transform(X)\n",
        "\n",
        "\n",
        "## Convert the data to PyTorch tensors\n",
        "X_tensor = torch.tensor(X_scaled, dtype=torch.float32)\n",
        "y_tensor = torch.tensor(y, dtype=torch.long)\n",
        "### what is a tensor? Do you know why we need to save the data as a tensors?\n",
        "\n",
        "# Generate the random shuffled indices\n",
        "shuffled_indices = torch.randperm(len(X_tensor))\n",
        "\n",
        "# Index the data using the shuffled indices\n",
        "X_tensor_shuffled = X_tensor[shuffled_indices]\n",
        "y_tensor_shuffled = y_tensor[shuffled_indices]\n",
        "#### why do we shuffule the data? Do you know torch also has an embeded shuffle fuction?\n",
        "\n",
        "\n",
        "\n",
        "# Split the dataset into training, validation, and test sets (60%, 20%, 20%)\n",
        "train_size = int(0.6 * len(X_tensor_shuffled))\n",
        "val_size = int(0.2 * len(X_tensor_shuffled))\n",
        "test_size = len(X_tensor_shuffled) - train_size - val_size\n",
        "\n",
        "###\n",
        "train_dataset_X = X_tensor_shuffled[0:train_size]\n",
        "val_dataset_X = X_tensor_shuffled[train_size:train_size+val_size]\n",
        "test_dataset_X = X_tensor_shuffled[train_size+val_size:]\n",
        "\n",
        "train_dataset_y = y_tensor_shuffled[0:train_size]\n",
        "val_dataset_y = y_tensor_shuffled[train_size:train_size+val_size]\n",
        "test_dataset_y = y_tensor_shuffled[train_size+val_size:]\n",
        "\n",
        "train_dataset = TensorDataset(train_dataset_X, train_dataset_y)\n",
        "val_dataset = TensorDataset(val_dataset_X, val_dataset_y)\n",
        "test_dataset = TensorDataset(test_dataset_X, test_dataset_y)\n",
        "\n",
        "\n",
        "torch.manual_seed(0)  # For reproducibility\n"
      ]
    },
    {
      "cell_type": "code",
      "execution_count": 5,
      "metadata": {
        "colab": {
          "base_uri": "https://localhost:8080/"
        },
        "id": "PM_b1Lf98uVW",
        "outputId": "b3900442-5c2b-41cd-cfc0-9a1a72b3ba47"
      },
      "outputs": [
        {
          "name": "stdout",
          "output_type": "stream",
          "text": [
            "the training set has ? cases \n",
            " the val set has ? cases \n",
            " the test set has ? cases\n"
          ]
        }
      ],
      "source": [
        "#### Task 2.1 Please print the number of cases in each dataset\n",
        "print(f\"the training set has ? cases \\n the val set has ? cases \\n the test set has ? cases\")"
      ]
    },
    {
      "cell_type": "code",
      "execution_count": 6,
      "metadata": {
        "id": "9KdgleLB9sub"
      },
      "outputs": [],
      "source": [
        "### Task 2.2 please tell your classmate next to you, is a 60%:20%:20% a good split?"
      ]
    },
    {
      "cell_type": "code",
      "execution_count": 7,
      "metadata": {
        "id": "ROzTWREVs1KX"
      },
      "outputs": [],
      "source": [
        "############# To build the dataset, you can do it another way as follow:\n",
        "# dataset = TensorDataset(X_tensor_shuffled, y_tensor_shuffled)\n",
        "# train_dataset, val_dataset, test_dataset = random_split(dataset, [train_size, val_size, test_size])\n",
        "\n",
        "\n",
        "\n"
      ]
    },
    {
      "cell_type": "code",
      "execution_count": 8,
      "metadata": {
        "colab": {
          "base_uri": "https://localhost:8080/"
        },
        "id": "eFlZGgdLk_3G",
        "outputId": "1865fe40-b183-4498-d69c-df7e7c20f50b"
      },
      "outputs": [
        {
          "name": "stdout",
          "output_type": "stream",
          "text": [
            "the reason to rescale the dataset is: I don't know it yet\n"
          ]
        }
      ],
      "source": [
        "### Task 2.3 print the reason why we need to rescale the dataset\n",
        "print(\"the reason to rescale the dataset is: I don't know it yet\")"
      ]
    },
    {
      "cell_type": "code",
      "execution_count": 9,
      "metadata": {
        "id": "1HXK3PZYrcoS"
      },
      "outputs": [],
      "source": [
        "\n",
        "# Step 3: Define a DataLoader for each set\n",
        "\n",
        "### the  batch_size here refer to how many case were used to evaluate in an epoch. Be careful when you have limited RAM for a ML task (e.g., <4GB).\n",
        "batch_size = 4\n",
        "\n",
        "train_loader = DataLoader(train_dataset, batch_size=batch_size, shuffle=True)\n",
        "val_loader = DataLoader(val_dataset, batch_size=batch_size, shuffle=False)\n",
        "test_loader = DataLoader(test_dataset, batch_size=batch_size, shuffle=False)\n",
        "\n"
      ]
    },
    {
      "cell_type": "code",
      "execution_count": 10,
      "metadata": {
        "colab": {
          "base_uri": "https://localhost:8080/"
        },
        "id": "ThjVUsyf-JVF",
        "outputId": "b33738b2-1c67-4b22-945d-e8ee23949f9b"
      },
      "outputs": [
        {
          "name": "stdout",
          "output_type": "stream",
          "text": [
            "There is something happened, which is:\n"
          ]
        }
      ],
      "source": [
        "##### Task 3 Try change/play the batch_size to another value and see what happen?\n",
        "print(\"There is something happened, which is:\")"
      ]
    },
    {
      "cell_type": "code",
      "execution_count": 11,
      "metadata": {
        "id": "8nSNVWYvrfuJ"
      },
      "outputs": [],
      "source": [
        "\n",
        "# Step 4: Define the Neural Network architecture\n",
        "class IrisNet(nn.Module):\n",
        "    def __init__(self):\n",
        "      ##### inheritate the parmeters and function\n",
        "        super(IrisNet, self).__init__()\n",
        "        ### this is the first fully connected layer\n",
        "        self.fc1 = nn.Linear(4, 5)  # 4 features in Iris dataset, 5 neurons in hidden layer\n",
        "        ### this is the sedconds fully connected layer\n",
        "        self.fc2 = nn.Linear(5, 3)  # 5 input from the last layer, 3 output classes\n",
        "\n",
        "    def forward(self, x):\n",
        "      ##### relu here refere to Rectified Linear Unit: output x if x>0, else output 0.\n",
        "        x = torch.relu(self.fc1(x))\n",
        "        x = self.fc2(x)\n",
        "        return x\n",
        "\n",
        "# Create an instance of the network\n",
        "model = IrisNet()\n"
      ]
    },
    {
      "cell_type": "code",
      "execution_count": 12,
      "metadata": {
        "colab": {
          "base_uri": "https://localhost:8080/"
        },
        "id": "pcy7OZ0J-3xW",
        "outputId": "a85891c2-1437-49df-baa4-4bf5b018c8ec"
      },
      "outputs": [
        {
          "name": "stdout",
          "output_type": "stream",
          "text": [
            "This is the task 4\n"
          ]
        }
      ],
      "source": [
        "##### Task 4 Try change/play the fully connected layer (add a layer? change the number of neurons?) and see what happen?\n",
        "print('This is the task 4')"
      ]
    },
    {
      "cell_type": "code",
      "execution_count": 13,
      "metadata": {
        "id": "mUikKMr5riex"
      },
      "outputs": [],
      "source": [
        "\n",
        "# Step 5: Define the loss function and optimizer\n",
        "## CrossEntropy is a typical parameter to evaluate the loss\n",
        "criterion = nn.CrossEntropyLoss()\n",
        "## Adam here refere to Adaptive Moment Estimation, the lr is learning rate, one of the key hyper parameters\n",
        "optimizer = torch.optim.Adam(model.parameters(), lr=0.1)\n"
      ]
    },
    {
      "cell_type": "code",
      "execution_count": 14,
      "metadata": {
        "colab": {
          "base_uri": "https://localhost:8080/"
        },
        "id": "LVPQ9Gw5_JCj",
        "outputId": "58fc6c91-d9ed-41fc-a77b-a269a0dff3ea"
      },
      "outputs": [
        {
          "name": "stdout",
          "output_type": "stream",
          "text": [
            "This is the task 5, I see something:\n"
          ]
        }
      ],
      "source": [
        "##### Task 5 Try change/play the value of the lr (learning rate), rerun the whole program again, and see what happen?\n",
        "print('This is the task 5, I see something:')"
      ]
    },
    {
      "cell_type": "code",
      "execution_count": 15,
      "metadata": {
        "colab": {
          "base_uri": "https://localhost:8080/",
          "height": 1000
        },
        "id": "Ft6e_SW7rlpB",
        "outputId": "5c9913ea-b057-44c2-a1bb-4a1681a77ac5"
      },
      "outputs": [
        {
          "name": "stdout",
          "output_type": "stream",
          "text": [
            "Epoch 1/10, Loss: 0.1105, Validation Loss: 0.1786\n",
            "Epoch 2/10, Loss: 0.0100, Validation Loss: 0.0933\n",
            "Epoch 3/10, Loss: 0.0013, Validation Loss: 0.1967\n",
            "Epoch 4/10, Loss: 0.0082, Validation Loss: 0.0660\n",
            "Epoch 5/10, Loss: 0.0117, Validation Loss: 0.0539\n",
            "Epoch 6/10, Loss: 0.0016, Validation Loss: 0.3373\n",
            "Epoch 7/10, Loss: 0.0051, Validation Loss: 0.0477\n",
            "Epoch 8/10, Loss: 0.0032, Validation Loss: 0.0864\n",
            "Epoch 9/10, Loss: 0.0013, Validation Loss: 0.1900\n",
            "Epoch 10/10, Loss: 0.0026, Validation Loss: 0.0665\n"
          ]
        },
        {
          "data": {
            "image/png": "[encoded data removed]",
            "text/plain": [
              "<Figure size 1000x800 with 1 Axes>"
            ]
          },
          "metadata": {},
          "output_type": "display_data"
        },
        {
          "data": {
            "image/png": "[encoded data removed]",
            "text/plain": [
              "<Figure size 1000x800 with 1 Axes>"
            ]
          },
          "metadata": {},
          "output_type": "display_data"
        }
      ],
      "source": [
        "\n",
        "# Step 6: Train the Neural Network\n",
        "def train_model(model, criterion, optimizer, train_loader, val_loader, epochs=10):\n",
        "    LossInTrain = []\n",
        "    LossInVal = []\n",
        "\n",
        "    for epoch in range(epochs):\n",
        "        model.train()\n",
        "        for inputs, labels in train_loader:\n",
        "            # Forward pass\n",
        "            outputs = model(inputs)\n",
        "            loss = criterion(outputs, labels)\n",
        "\n",
        "            # Backward pass and optimization\n",
        "            optimizer.zero_grad()\n",
        "            loss.backward()\n",
        "            optimizer.step()\n",
        "\n",
        "        # Validation loss\n",
        "        model.eval()\n",
        "        with torch.no_grad():\n",
        "            val_loss = 0.0\n",
        "            for inputs, labels in val_loader:\n",
        "                outputs = model(inputs)\n",
        "                loss = criterion(outputs, labels)\n",
        "                val_loss += loss.item()\n",
        "\n",
        "        print(f'Epoch {epoch+1}/{epochs}, Loss: {loss.item():.4f}, Validation Loss: {val_loss/len(val_loader):.4f}')\n",
        "        LossInTrain.append(loss.item())\n",
        "        LossInVal.append(val_loss/len(val_loader))\n",
        "\n",
        "        # LossInTrain = LossInTrain.\n",
        "\n",
        "    #####Visulise your train/val loss\n",
        "    plt.figure(figsize=(10,8))\n",
        "    plt.plot(range(1,epochs+1),LossInTrain, label='Training Loss')\n",
        "    plt.title('Training Loss Over Epochs')\n",
        "    plt.xlabel('Epochs')\n",
        "    plt.ylabel('Loss')\n",
        "    plt.show()\n",
        "\n",
        "\n",
        "    plt.figure(figsize=(10,8))\n",
        "    plt.plot(range(1,epochs+1),LossInVal, label='Valication Loss')\n",
        "    plt.xlabel('Epochs')\n",
        "    plt.ylabel('Loss')\n",
        "    plt.title('Validation Loss Over Epochs')\n",
        "    plt.show()\n",
        "\n",
        "\n",
        "\n",
        "\n",
        "\n",
        "# Let's train for a small number of epochs\n",
        "train_model(model, criterion, optimizer, train_loader, val_loader, epochs=10)\n"
      ]
    },
    {
      "cell_type": "code",
      "execution_count": 16,
      "metadata": {
        "colab": {
          "base_uri": "https://localhost:8080/"
        },
        "id": "4Iydpveq_9d8",
        "outputId": "1e66204c-2538-48b2-dd67-6ed9151de11b"
      },
      "outputs": [
        {
          "name": "stdout",
          "output_type": "stream",
          "text": [
            "This is the task 6, I see something:\n"
          ]
        }
      ],
      "source": [
        "##### Task 6 Try change/play the value of the epochs, rerun the whole program again, and see what happen?\n",
        "print('This is the task 6, I see something:')"
      ]
    },
    {
      "cell_type": "code",
      "execution_count": 17,
      "metadata": {
        "colab": {
          "base_uri": "https://localhost:8080/"
        },
        "id": "LFi2qG0-rnSh",
        "outputId": "81486c9f-a149-4d94-fc6b-3d982513ea18"
      },
      "outputs": [
        {
          "name": "stdout",
          "output_type": "stream",
          "text": [
            "Validation Accuracy: 96.67%\n"
          ]
        }
      ],
      "source": [
        "\n",
        "# Step 7: Validate the Model\n",
        "def validate_model(model, val_loader):\n",
        "    model.eval()\n",
        "    correct = 0\n",
        "    total = 0\n",
        "    with torch.no_grad():\n",
        "        for inputs, labels in val_loader:\n",
        "            outputs = model(inputs)\n",
        "            _, predicted = torch.max(outputs.data, 1)\n",
        "            total += labels.size(0)\n",
        "            correct += (predicted == labels).sum().item()\n",
        "\n",
        "    val_accuracy = 100 * correct / total\n",
        "    print(f'Validation Accuracy: {val_accuracy:.2f}%')\n",
        "\n",
        "validate_model(model, val_loader)\n",
        "\n"
      ]
    },
    {
      "cell_type": "code",
      "execution_count": 18,
      "metadata": {
        "id": "GUzTXzdGb9dY"
      },
      "outputs": [],
      "source": [
        "#Build your test fuction\n",
        "# Task 6 You will perform this step as an exercise. Use the test_loader to evaluate the model's performance.\n",
        "## hints: try to imitate the format of validate the model\n"
      ]
    },
    {
      "cell_type": "code",
      "execution_count": 19,
      "metadata": {
        "id": "bdWJ-h-IenOI"
      },
      "outputs": [],
      "source": [
        "##### Hidden task ###########\n",
        "#### can you do it again for the diabetes dataset?\n",
        "\n",
        "##### Hidden toy: https://playground.tensorflow.org/\n",
        "\n",
        "### By:  Zhizhuo Su\n",
        "### Date: 07/11/2023\n",
        "### WMG, the University of Warwick"
      ]
    }
  ],
  "metadata": {
    "colab": {
      "provenance": []
    },
    "kernelspec": {
      "display_name": "Python 3",
      "name": "python3"
    },
    "language_info": {
      "codemirror_mode": {
        "name": "ipython",
        "version": 3
      },
      "file_extension": ".py",
      "mimetype": "text/x-python",
      "name": "python",
      "nbconvert_exporter": "python",
      "pygments_lexer": "ipython3",
      "version": "3.10.15"
    }
  },
  "nbformat": 4,
  "nbformat_minor": 0
}
